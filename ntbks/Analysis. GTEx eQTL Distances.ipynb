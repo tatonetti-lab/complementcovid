{
 "cells": [
  {
   "cell_type": "code",
   "execution_count": 17,
   "metadata": {},
   "outputs": [],
   "source": [
    "import os\n",
    "import sys\n",
    "import csv\n",
    "import gzip\n",
    "\n",
    "import seaborn as sns\n",
    "import matplotlib.pyplot as plt\n",
    "\n",
    "from tqdm.notebook import tqdm\n",
    "\n",
    "%matplotlib inline"
   ]
  },
  {
   "cell_type": "code",
   "execution_count": 8,
   "metadata": {},
   "outputs": [],
   "source": [
    "path_to_gtex_data = '../data/GTEx_Analysis_v8_eQTL/'\n",
    "\n",
    "sig_pair_files = sorted([f for f in os.listdir(path_to_gtex_data) if f.endswith('signif_variant_gene_pairs.txt.gz')])"
   ]
  },
  {
   "cell_type": "code",
   "execution_count": 48,
   "metadata": {},
   "outputs": [],
   "source": [
    "chosen_tissue_files = [\n",
    " 'Esophagus_Gastroesophageal_Junction.v8.signif_variant_gene_pairs.txt.gz',\n",
    " 'Esophagus_Mucosa.v8.signif_variant_gene_pairs.txt.gz',\n",
    " 'Esophagus_Muscularis.v8.signif_variant_gene_pairs.txt.gz',\n",
    " 'Lung.v8.signif_variant_gene_pairs.txt.gz',\n",
    " 'Artery_Aorta.v8.signif_variant_gene_pairs.txt.gz',\n",
    " 'Artery_Coronary.v8.signif_variant_gene_pairs.txt.gz',\n",
    " 'Artery_Tibial.v8.signif_variant_gene_pairs.txt.gz',\n",
    " 'Heart_Left_Ventricle.v8.signif_variant_gene_pairs.txt.gz',\n",
    " 'Heart_Atrial_Appendage.v8.signif_variant_gene_pairs.txt.gz',\n",
    "]"
   ]
  },
  {
   "cell_type": "code",
   "execution_count": null,
   "metadata": {},
   "outputs": [],
   "source": [
    "tissue_to_distances = dict()\n",
    "\n",
    "for sig_pair_file in chosen_tissue_files:\n",
    "    \n",
    "    print(sig_pair_file)\n",
    "    \n",
    "    fh = gzip.open(os.path.join(path_to_gtex_data, sig_pair_file), 'rt')\n",
    "    reader = csv.reader(fh, delimiter='\\t')\n",
    "    header = next(reader)\n",
    "    \n",
    "    sig_tss_distances = list()\n",
    "    for row in tqdm(reader):\n",
    "        row = dict(zip(header, row))\n",
    "        if row['pval_nominal'] < row['pval_nominal_threshold']:\n",
    "            sig_tss_distances.append(int(row['tss_distance']))\n",
    "    \n",
    "    tissue_to_distances[sig_pair_file.split('.')[0]] = sig_tss_distances\n",
    "\n",
    "len(tissue_to_distances)"
   ]
  },
  {
   "cell_type": "code",
   "execution_count": null,
   "metadata": {},
   "outputs": [],
   "source": [
    "tissue_to_xy = dict()\n",
    "for tissue, sig_tss_distances in tissue_to_distances.items():\n",
    "    print(tissue)\n",
    "    \n",
    "    x = list()\n",
    "    y = list()\n",
    "\n",
    "    for d in tqdm(range(0, 1000000, 10000)):\n",
    "        y.append(len([1 for i in sig_tss_distances if i <= d])/len(sig_tss_distances))\n",
    "        x.append(d)\n",
    "\n",
    "    tissue_to_xy[tissue] = (x,y)"
   ]
  },
  {
   "cell_type": "code",
   "execution_count": null,
   "metadata": {},
   "outputs": [],
   "source": [
    "x = list()\n",
    "y = list()\n",
    "\n",
    "for d in tqdm(range(0, 1000000, 10000)):\n",
    "    y_total = 0\n",
    "    y_value = 0\n",
    "    \n",
    "    for tissue, sig_tss_distances in tissue_to_distances.items():\n",
    "        \n",
    "        y_value += len([1 for i in sig_tss_distances if i <= d])\n",
    "        y_total += len(sig_tss_distances)\n",
    "        \n",
    "    y.append(y_value/y_total)\n",
    "    x.append(d)\n",
    "        "
   ]
  },
  {
   "cell_type": "code",
   "execution_count": 65,
   "metadata": {},
   "outputs": [
    {
     "data": {
      "image/png": "[encoded data removed]",
      "text/plain": [
       "<Figure size 432x288 with 1 Axes>"
      ]
     },
     "metadata": {},
     "output_type": "display_data"
    }
   ],
   "source": [
    "sns.set(style='ticks', font_scale=1.2)  \n",
    "\n",
    "plt.plot(x, y, 'k-')\n",
    "\n",
    "    \n",
    "plt.plot([40000, 40000], [0, 1], 'k--', alpha=0.5, lw=1)\n",
    "plt.plot([60000, 60000], [0, 1], 'k--', lw=1)\n",
    "plt.plot([80000, 80000], [0, 1], 'k--', alpha=0.5, lw=1)\n",
    "\n",
    "plt.ylim(0, 1)\n",
    "plt.ylabel('% of all significant eQTL')\n",
    "plt.xlabel('distance to tss')\n",
    "sns.despine(trim=True)\n",
    "\n",
    "plt.savefig('figures/r1/percent_of_eqtls_bydistance_gtex_v8.pdf')"
   ]
  },
  {
   "cell_type": "code",
   "execution_count": null,
   "metadata": {},
   "outputs": [],
   "source": []
  }
 ],
 "metadata": {
  "kernelspec": {
   "display_name": "Python 3",
   "language": "python",
   "name": "python3"
  },
  "language_info": {
   "codemirror_mode": {
    "name": "ipython",
    "version": 3
   },
   "file_extension": ".py",
   "mimetype": "text/x-python",
   "name": "python",
   "nbconvert_exporter": "python",
   "pygments_lexer": "ipython3",
   "version": "3.7.6"
  }
 },
 "nbformat": 4,
 "nbformat_minor": 4
}
