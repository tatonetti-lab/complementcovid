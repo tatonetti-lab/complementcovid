{
 "cells": [
  {
   "cell_type": "code",
   "execution_count": 14,
   "metadata": {},
   "outputs": [],
   "source": [
    "import os\n",
    "import sys\n",
    "import csv\n",
    "\n",
    "import numpy as np\n",
    "import pandas as pd\n",
    "import scipy.stats as stats\n",
    "\n",
    "import seaborn as sns\n",
    "import matplotlib.pyplot as plt\n",
    "\n",
    "from collections import defaultdict\n",
    "\n",
    "%matplotlib inline"
   ]
  },
  {
   "cell_type": "code",
   "execution_count": 15,
   "metadata": {},
   "outputs": [],
   "source": [
    "ukbb_data_file = 'data/04252020_ukb_snp_table_1.csv'"
   ]
  },
  {
   "cell_type": "code",
   "execution_count": 16,
   "metadata": {},
   "outputs": [],
   "source": [
    "fh = open(ukbb_data_file)\n",
    "reader = csv.reader(fh)\n",
    "header = next(reader)\n",
    "\n",
    "ukbb_data = list()\n",
    "\n",
    "for row in reader:\n",
    "    ukbb_data.append(dict(zip(header, row[:2] + list(map(int,row[2:])))))"
   ]
  },
  {
   "cell_type": "code",
   "execution_count": 17,
   "metadata": {},
   "outputs": [
    {
     "data": {
      "text/plain": [
       "{'gene': 'CR1',\n",
       " 'rsid': 'rs34828104',\n",
       " 'all_ref/ref_count': 51987,\n",
       " 'all_ref/alt_count': 160179,\n",
       " 'all_alt/alt_count': 124027,\n",
       " 'all_haploid_ref_count': 0,\n",
       " 'all_haploid_alt_count': 0,\n",
       " 'tested_ref/ref_count': 131,\n",
       " 'tested_ref/alt_count': 447,\n",
       " 'tested_alt/alt_count': 330,\n",
       " 'tested_haploid_ref_count': 0,\n",
       " 'tested_haploid_alt_count': 0,\n",
       " 'pos_ref/ref_count': 59,\n",
       " 'pos_ref/alt_count': 191,\n",
       " 'pos_alt/alt_count': 137,\n",
       " 'pos_haploid_ref_count': 0,\n",
       " 'pos_haploid_alt_count': 0,\n",
       " 'neg_ref/ref_count': 76,\n",
       " 'neg_ref/alt_count': 279,\n",
       " 'neg_alt/alt_count': 213,\n",
       " 'neg_haploid_ref_count': 0,\n",
       " 'neg_haploid_alt_count': 0,\n",
       " 'pos_severe_ref/ref_count': 53,\n",
       " 'pos_severe_ref/alt_count': 165,\n",
       " 'pos_severe_alt/alt_count': 113,\n",
       " 'pos_severe_haploid_ref_count': 0,\n",
       " 'pos_severe_haploid_alt_count': 0}"
      ]
     },
     "execution_count": 17,
     "metadata": {},
     "output_type": "execute_result"
    }
   ],
   "source": [
    "\n",
    "# construct an rsid->gene mapping\n",
    "rsid2gene = defaultdict(set)\n",
    "genes = set()\n",
    "\n",
    "snp_allele_counts = dict()\n",
    "\n",
    "for row in ukbb_data:\n",
    "    rsid2gene[row['rsid']].add(row['gene'])\n",
    "    snp_allele_counts[row['rsid']] = row\n",
    "    genes.add(row['gene'])\n",
    "    \n",
    "\n",
    "row"
   ]
  },
  {
   "cell_type": "code",
   "execution_count": 18,
   "metadata": {},
   "outputs": [],
   "source": [
    "# sorted(genes)"
   ]
  },
  {
   "cell_type": "markdown",
   "metadata": {},
   "source": [
    "# Compare our gene set to those found for AMD (not how it was built)\n"
   ]
  },
  {
   "cell_type": "code",
   "execution_count": 19,
   "metadata": {},
   "outputs": [
    {
     "data": {
      "text/plain": [
       "317"
      ]
     },
     "execution_count": 19,
     "metadata": {},
     "output_type": "execute_result"
    }
   ],
   "source": [
    "fn = 'data/gwas-association-downloaded_2020-04-27-EFO_0001365-withChildTraits.tsv'\n",
    "fh = open(fn)\n",
    "reader = csv.reader(fh, delimiter='\\t')\n",
    "header = next(reader)\n",
    "header\n",
    "\n",
    "reported_genes = 'REPORTED GENE(S)'\n",
    "mapped_genes = 'MAPPED_GENE'\n",
    "\n",
    "amd_gwas_genes = set()\n",
    "\n",
    "for row in reader:\n",
    "    row = dict(zip(header, row))\n",
    "    \n",
    "    for gene in row[reported_genes].split(','):\n",
    "        gene = gene.strip()\n",
    "        amd_gwas_genes.add(gene)\n",
    "    \n",
    "    for gene in row[mapped_genes].split(','):\n",
    "        gene = gene.strip()\n",
    "        amd_gwas_genes.add(gene)\n",
    "len(amd_gwas_genes)"
   ]
  },
  {
   "cell_type": "code",
   "execution_count": 20,
   "metadata": {},
   "outputs": [
    {
     "data": {
      "text/plain": [
       "(9, 67)"
      ]
     },
     "execution_count": 20,
     "metadata": {},
     "output_type": "execute_result"
    }
   ],
   "source": [
    "len(amd_gwas_genes & genes), len(genes)"
   ]
  },
  {
   "cell_type": "code",
   "execution_count": 21,
   "metadata": {},
   "outputs": [],
   "source": [
    "# study = 'pos_severe'\n",
    "# study = 'pos'\n",
    "study = 'neg'\n",
    "\n",
    "plink_results_file = 'data/%s.PHENO1.glm.logistic.adjusted' % study\n",
    "plink_details_file = 'data/%s.PHENO1.glm.logistic' % study"
   ]
  },
  {
   "cell_type": "code",
   "execution_count": null,
   "metadata": {},
   "outputs": [],
   "source": []
  },
  {
   "cell_type": "code",
   "execution_count": 22,
   "metadata": {},
   "outputs": [
    {
     "data": {
      "text/plain": [
       "(2097,\n",
       " ('rs61775589',\n",
       "  {'#CHROM': '1',\n",
       "   'POS': '11028301',\n",
       "   'ID': 'rs61775589',\n",
       "   'REF': 'C',\n",
       "   'ALT': 'T',\n",
       "   'A1': 'C',\n",
       "   'TEST': 'ADD',\n",
       "   'OBS_CT': '337147',\n",
       "   'OR': '0.956961',\n",
       "   'LOG(OR)_SE': '0.122567',\n",
       "   'Z_STAT': '-0.35893',\n",
       "   'P': '0.719648'}))"
      ]
     },
     "execution_count": 22,
     "metadata": {},
     "output_type": "execute_result"
    }
   ],
   "source": [
    "fh = open(plink_details_file)\n",
    "reader = csv.reader(fh, delimiter='\\t')\n",
    "header = next(reader)\n",
    "\n",
    "plink_details = dict()\n",
    "for row in reader:\n",
    "    row = dict(zip(header, row))\n",
    "    if row['TEST'] == 'ADD':\n",
    "        plink_details[row['ID']] = row\n",
    "\n",
    "len(plink_details), list(plink_details.items())[0]"
   ]
  },
  {
   "cell_type": "code",
   "execution_count": 23,
   "metadata": {},
   "outputs": [
    {
     "name": "stdout",
     "output_type": "stream",
     "text": [
      "['#CHROM', 'ID', 'A1', 'UNADJ', 'GC', 'BONF', 'HOLM', 'SIDAK_SS', 'SIDAK_SD', 'FDR_BH', 'FDR_BY']\n"
     ]
    },
    {
     "data": {
      "text/plain": [
       "2097"
      ]
     },
     "execution_count": 23,
     "metadata": {},
     "output_type": "execute_result"
    }
   ],
   "source": [
    "fh = open(plink_results_file)\n",
    "reader = csv.reader(fh, delimiter='\\t')\n",
    "\n",
    "header = next(reader)\n",
    "print(header)\n",
    "\n",
    "plink_results = list()\n",
    "\n",
    "for row in reader:\n",
    "    chrom = row[0]\n",
    "    rsid = row[1]\n",
    "    allele = row[2]\n",
    "    unadjusted = float(row[3])\n",
    "    fdrbh = float(row[9])\n",
    "    \n",
    "    plink_results.append([chrom, rsid, allele, unadjusted, fdrbh])\n",
    "\n",
    "len(plink_results)"
   ]
  },
  {
   "cell_type": "markdown",
   "metadata": {},
   "source": [
    "## Pull out and build a table from the study-wide significant hits"
   ]
  },
  {
   "cell_type": "code",
   "execution_count": 24,
   "metadata": {},
   "outputs": [
    {
     "name": "stdout",
     "output_type": "stream",
     "text": [
      "rs2227568 10 75673879 T C 1.3293 0.075501 3.77014 T 0.000163155 0.0068525 PLAU\n"
     ]
    },
    {
     "data": {
      "text/plain": [
       "0.000163155"
      ]
     },
     "execution_count": 24,
     "metadata": {},
     "output_type": "execute_result"
    }
   ],
   "source": [
    "gt_types = [\"%s_ref/ref_count\", \"%s_ref/alt_count\", \"%s_alt/alt_count\"]\n",
    "\n",
    "genotype_counts_keys = [t % 'all' for t in gt_types] + [t % study for t in gt_types]\n",
    "\n",
    "ofh = open('results/table3_ukbb_results_%s.csv' % study, 'w')\n",
    "writer = csv.writer(ofh)\n",
    "\n",
    "sig_chroms = set()\n",
    "\n",
    "results_header = [\"rsid\", \"chrom\", \"pos\", \"ref\", \"alt\", \"OR\", \"log(OR)se\", \"z_stat\", \"allele\", \"unadjusted\", \"FDR_BH\", \"genes\"] + genotype_counts_keys \n",
    "writer.writerow(results_header)\n",
    "least_sig_sig = None\n",
    "\n",
    "marginally_significant_table = list()\n",
    "\n",
    "for chrom, rsid, allele, unadjusted, fdrbh in plink_results:\n",
    "    details = plink_details[rsid]\n",
    "    genotype_counts = [snp_allele_counts[rsid][k] for k in genotype_counts_keys]\n",
    "        \n",
    "    if fdrbh < 0.05:\n",
    "        if least_sig_sig is None or unadjusted > least_sig_sig:\n",
    "            least_sig_sig = unadjusted\n",
    "        \n",
    "        writer.writerow([rsid, chrom, details['POS'], details['REF'], details['ALT'], details['OR'], details['LOG(OR)_SE'], details['Z_STAT'], allele, unadjusted, fdrbh, ','.join(rsid2gene[rsid])] + genotype_counts)\n",
    "        print(rsid, chrom, details['POS'], details['REF'], details['ALT'], details['OR'], details['LOG(OR)_SE'], details['Z_STAT'], allele, unadjusted, fdrbh, ','.join(rsid2gene[rsid]))\n",
    "        sig_chroms.add(int(chrom))\n",
    "    \n",
    "    if unadjusted < 1e-2:\n",
    "        marginally_significant_table.append(\n",
    "            [rsid, chrom, details['POS'], details['REF'], details['ALT'], details['OR'], details['LOG(OR)_SE'], details['Z_STAT'], allele, unadjusted, fdrbh, ','.join(rsid2gene[rsid])] + genotype_counts            \n",
    "        )\n",
    "        \n",
    "\n",
    "ofh.close()\n",
    "\n",
    "ofh = open('results/table4_ukbb_results_marginally_sig_%s.csv' % study, 'w')\n",
    "writer = csv.writer(ofh)\n",
    "writer.writerow(results_header)\n",
    "writer.writerows(marginally_significant_table)\n",
    "ofh.close()\n",
    "\n",
    "least_sig_sig"
   ]
  },
  {
   "cell_type": "code",
   "execution_count": 25,
   "metadata": {},
   "outputs": [
    {
     "data": {
      "text/plain": [
       "SpearmanrResult(correlation=0.7534089722869851, pvalue=5.7320802469532384e-06)"
      ]
     },
     "execution_count": 25,
     "metadata": {},
     "output_type": "execute_result"
    },
    {
     "data": {
      "image/png": "[encoded data removed]",
      "text/plain": [
       "<Figure size 432x288 with 1 Axes>"
      ]
     },
     "metadata": {
      "needs_background": "light"
     },
     "output_type": "display_data"
    }
   ],
   "source": [
    "split = list(zip(*marginally_significant_table))\n",
    "u = np.log10(split[9])\n",
    "a = np.log10(split[10])\n",
    "plt.plot(u, a, '.')\n",
    "\n",
    "stats.spearmanr(u, a)"
   ]
  },
  {
   "cell_type": "markdown",
   "metadata": {},
   "source": [
    "## Build a mini-Manhattan plot"
   ]
  },
  {
   "cell_type": "code",
   "execution_count": 26,
   "metadata": {},
   "outputs": [
    {
     "data": {
      "image/png": "[encoded data removed]",
      "text/plain": [
       "<Figure size 720x288 with 1 Axes>"
      ]
     },
     "metadata": {},
     "output_type": "display_data"
    }
   ],
   "source": [
    "sns.set(style='ticks', font_scale=1.2)\n",
    "plt.figure(figsize=(10,4))\n",
    "\n",
    "neglog10 = lambda p: -1*np.log10(p)\n",
    "\n",
    "chromosomes = sorted(set(map(int,list(zip(*plink_results))[0])))\n",
    "\n",
    "start_pos = 0\n",
    "alternate = 0\n",
    "tick_positions = list()\n",
    "tick_labels = list()\n",
    "\n",
    "gene_markers = list()\n",
    "sig_genes = set()\n",
    "\n",
    "for this_chrom in chromosomes:\n",
    "    \n",
    "    unadjusted_pvalues = list()\n",
    "    \n",
    "    for chrom, rsid, allele, unadjusted, fdrbh in sorted(plink_results):\n",
    "        if int(chrom) != this_chrom:\n",
    "            continue\n",
    "        \n",
    "        unadjusted_pvalues.append(neglog10(unadjusted))\n",
    "        \n",
    "        if fdrbh < 0.05:\n",
    "            for gene in rsid2gene[rsid]:\n",
    "                gene_markers.append((gene, len(unadjusted_pvalues)+start_pos, unadjusted, alternate))\n",
    "                sig_genes.add(gene)\n",
    "    \n",
    "    fmt = 'k.'\n",
    "    if alternate % 2 == 0:\n",
    "        fmt = 'r.'\n",
    "    \n",
    "    plt.plot(range(start_pos, start_pos+len(unadjusted_pvalues)) ,unadjusted_pvalues, fmt)\n",
    "\n",
    "    if this_chrom in sig_chroms:\n",
    "        tick_positions.append(len(unadjusted_pvalues)/2+start_pos)\n",
    "        tick_labels.append(this_chrom)\n",
    "    \n",
    "    start_pos += len(unadjusted_pvalues)\n",
    "    alternate += 1\n",
    "    \n",
    "# plot the significant genes\n",
    "markerstyles = ['o', 's', 'v', '*', 'P', 'D', 'x', 'h', '|']\n",
    "legend_names = list()\n",
    "for i, gene in enumerate(sig_genes):\n",
    "    _, xpos, unadj, alternate = zip(*[(g,x,p,a) for g,x,p,a in gene_markers if g == gene])\n",
    "    \n",
    "    color = 'k'\n",
    "    if alternate[0] % 2 == 0:\n",
    "        color = 'r'\n",
    "#     xpos += np.random.normal(0, 20, 1)\n",
    "    plt.plot(xpos, list(map(neglog10,unadj)), lw=0, color='none', markeredgecolor=color, markersize=8, marker=markerstyles[i], label=gene)\n",
    "    legend_names.append(gene)\n",
    "\n",
    "plt.legend(bbox_to_anchor=(1.05, 1), loc=2, borderaxespad=0)\n",
    "\n",
    "# Add some markers for where the significance threshold is\n",
    "# and customize the tick marks and labels\n",
    "un_alpha = neglog10(0.05)\n",
    "# bh_alpha = neglog10(0.0007)\n",
    "bh_alpha = neglog10(1.1*least_sig_sig)\n",
    "\n",
    "plt.plot([0, len(plink_results)], [un_alpha, un_alpha], 'k--', lw=1)\n",
    "plt.plot([0, len(plink_results)], [bh_alpha, bh_alpha], 'r--', lw=1)\n",
    "plt.xlim(0,len(plink_results))\n",
    "plt.ylim(0)\n",
    "plt.ylabel('-log10(p value)')\n",
    "\n",
    "plt.xticks(tick_positions, tick_labels)\n",
    "plt.xlabel('Chromosome')\n",
    "\n",
    "sns.despine()\n",
    "plt.tight_layout()\n",
    "\n",
    "plt.savefig('figures/ukbb_complwas_%s.pdf' % study)"
   ]
  },
  {
   "cell_type": "code",
   "execution_count": null,
   "metadata": {},
   "outputs": [],
   "source": []
  },
  {
   "cell_type": "code",
   "execution_count": null,
   "metadata": {},
   "outputs": [],
   "source": []
  },
  {
   "cell_type": "code",
   "execution_count": null,
   "metadata": {},
   "outputs": [],
   "source": []
  }
 ],
 "metadata": {
  "kernelspec": {
   "display_name": "Python 3",
   "language": "python",
   "name": "python3"
  },
  "language_info": {
   "codemirror_mode": {
    "name": "ipython",
    "version": 3
   },
   "file_extension": ".py",
   "mimetype": "text/x-python",
   "name": "python",
   "nbconvert_exporter": "python",
   "pygments_lexer": "ipython3",
   "version": "3.7.6"
  }
 },
 "nbformat": 4,
 "nbformat_minor": 4
}
