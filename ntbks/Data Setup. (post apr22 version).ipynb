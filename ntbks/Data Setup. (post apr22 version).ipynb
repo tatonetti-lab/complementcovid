{
 "cells": [
  {
   "cell_type": "code",
   "execution_count": 17,
   "metadata": {},
   "outputs": [],
   "source": [
    "import os\n",
    "import sys\n",
    "import csv\n",
    "\n",
    "import moment\n",
    "import pymysql\n",
    "import datetime\n",
    "\n",
    "import numpy as np\n",
    "import scipy as sp\n",
    "import scipy.stats as stats\n",
    "import pandas as pd\n",
    "\n",
    "import seaborn as sns\n",
    "import matplotlib.pyplot as plt\n",
    "\n",
    "from collections import defaultdict\n",
    "\n",
    "%matplotlib inline"
   ]
  },
  {
   "cell_type": "code",
   "execution_count": 18,
   "metadata": {},
   "outputs": [],
   "source": [
    "def count(l):\n",
    "    c = defaultdict(int)\n",
    "    for k in l:\n",
    "        c[k] += 1\n",
    "    return c\n",
    "\n",
    "def convert_date(d):\n",
    "    d = moment.date(d).date\n",
    "    try:\n",
    "        d = d.date()\n",
    "    except:\n",
    "        pass\n",
    "    \n",
    "    return d"
   ]
  },
  {
   "cell_type": "markdown",
   "metadata": {},
   "source": [
    "## Version Information/History\n",
    "\n",
    "### v1\n",
    "This version is the original port from the old 'Survival Analysis' script created on 4/25/2020 by NPT\n",
    "\n",
    "### v2\n",
    "This version is the updated to work with the new data table formats post 4/22, created on 4/25/2020 by NPT.\n",
    "\n",
    "### v3\n",
    "Added a negative control to the data table, created on 4/25/2020 by NPT.\n",
    "\n",
    "### v3-1\n",
    "This should be the same as v3, but I am adding some race and ethnicity variables for the tables we make. I'm setting it up as 3-1 just in case there were any data changes (e.g. I saw someone \"cleaned\" up our demographics table by removing patients with non-binary sex/gender codes. created on 4/27/20 by NPT.\n"
   ]
  },
  {
   "cell_type": "code",
   "execution_count": 66,
   "metadata": {},
   "outputs": [],
   "source": [
    "_version = 'v3-1'"
   ]
  },
  {
   "cell_type": "code",
   "execution_count": 23,
   "metadata": {},
   "outputs": [],
   "source": [
    "db = pymysql.connect(read_default_file='~/.my.cnf')\n",
    "cur = db.cursor()"
   ]
  },
  {
   "cell_type": "code",
   "execution_count": 24,
   "metadata": {},
   "outputs": [
    {
     "data": {
      "text/plain": [
       "0"
      ]
     },
     "execution_count": 24,
     "metadata": {},
     "output_type": "execute_result"
    }
   ],
   "source": [
    "cur.execute('use {DatabaseName}')\n",
   ]
  },
  {
   "cell_type": "code",
   "execution_count": 25,
   "metadata": {},
   "outputs": [],
   "source": [
    "# date_retrieved = '2020-04-15'\n",
    "date_retrieved = '2020-04-25'"
   ]
  },
  {
   "cell_type": "markdown",
   "metadata": {},
   "source": [
    "# Post April 22, 2020 Version\n",
    "\n",
    "## Pull patients by their diagnosis codes"
   ]
  },
  {
   "cell_type": "code",
   "execution_count": 26,
   "metadata": {},
   "outputs": [],
   "source": [
    "master_patient_set = set()"
   ]
  },
  {
   "cell_type": "code",
   "execution_count": 27,
   "metadata": {},
   "outputs": [
    {
     "name": "stdout",
     "output_type": "stream",
     "text": [
      "2821\n"
     ]
    }
   ],
   "source": [
    "# pull covid+ patients by their diagnosis codes\n",
    "query = \"\"\"\n",
    "select pat_mrn_id, left(min(contact_date_string), 10) firstdx\n",
    "from 1_covid_patients_noname\n",
    "where covid_diagnosis = 'Y'\n",
    "and date_retrieved = '%s'\n",
    "group by pat_mrn_id;\n",
    "\"\"\" % date_retrieved\n",
    "# Takes a really long time so be sure\n",
    "print(cur.execute(query))\n",
    "diagnosis_data = [row for row in cur.fetchall()]"
   ]
  },
  {
   "cell_type": "code",
   "execution_count": 28,
   "metadata": {},
   "outputs": [],
   "source": [
    "diagnosed_data = dict()\n",
    "for ptid, firstdx in diagnosis_data:\n",
    "    master_patient_set.add(ptid)\n",
    "    diagnosed_data[ptid] = convert_date(firstdx)"
   ]
  },
  {
   "cell_type": "markdown",
   "metadata": {},
   "source": [
    "## Pull patients by their coronavirus tests"
   ]
  },
  {
   "cell_type": "code",
   "execution_count": 29,
   "metadata": {},
   "outputs": [
    {
     "name": "stdout",
     "output_type": "stream",
     "text": [
      "10543\n"
     ]
    },
    {
     "data": {
      "text/plain": [
       "11116"
      ]
     },
     "execution_count": 29,
     "metadata": {},
     "output_type": "execute_result"
    }
   ],
   "source": [
    "query = \"\"\"\n",
    "select pat_mrn_id, left(min(result_date),10) as testdate, ord_value in ('detected', 'positive')\n",
    "from 1_covid_labs_noname\n",
    "where date_retrieved = '%s'\n",
    "group by pat_mrn_id, ord_value in ('detected', 'positive')\n",
    "\"\"\" % date_retrieved\n",
    "print(cur.execute(query))\n",
    "# pat_id, age, testdate, test_outcome (1=positive, 0=negative/inconclusive)\n",
    "\n",
    "detected_data = dict()\n",
    "\n",
    "for ptid, testdate, ord_value in cur.fetchall():\n",
    "    \n",
    "    master_patient_set.add(ptid)\n",
    "    \n",
    "    if ord_value == 1:\n",
    "        detected_data[ptid] = convert_date(testdate)\n",
    "\n",
    "len(master_patient_set)"
   ]
  },
  {
   "cell_type": "code",
   "execution_count": 30,
   "metadata": {},
   "outputs": [
    {
     "data": {
      "text/plain": [
       "6531"
      ]
     },
     "execution_count": 30,
     "metadata": {},
     "output_type": "execute_result"
    }
   ],
   "source": [
    "covidpositive_patients = set(diagnosed_data.keys()) | set(detected_data.keys())\n",
    "len(covidpositive_patients)"
   ]
  },
  {
   "cell_type": "code",
   "execution_count": 45,
   "metadata": {},
   "outputs": [
    {
     "name": "stdout",
     "output_type": "stream",
     "text": [
      "11501\n"
     ]
    }
   ],
   "source": [
    "# load the demographic data: birthdate, deathdate, and sex\n",
    "query = \"\"\"\n",
    "select pat_mrn_id, left(birth_date,10), left(death_date,10), sex_c, ethnicity, race_1\n",
    "from 1_covid_persons_noname\n",
    "\"\"\"\n",
    "print(cur.execute(query))\n",
    "\n",
    "birthdate_data = dict()\n",
    "deathdate_data = dict()\n",
    "sex_data = dict()\n",
    "ethnicity_data = dict()\n",
    "ethnicities = set()\n",
    "\n",
    "race_data = dict()\n",
    "races = set()\n",
    "\n",
    "for ptid, bd, dd, sexc, eth, race in cur.fetchall():\n",
    "    birthdate_data[ptid] = convert_date(bd)\n",
    "    if dd != '0000-00-00':\n",
    "        deathdate_data[ptid] = convert_date(dd)\n",
    "    \n",
    "    if sexc == 2:\n",
    "        sex_data[ptid] = 2\n",
    "    else:\n",
    "        sex_data[ptid] = 1\n",
    "    \n",
    "    ethnicities.add(eth)\n",
    "    ethnicity_data[ptid] = eth\n",
    "    \n",
    "    races.add(race)\n",
    "    race_data[ptid] = race"
   ]
  },
  {
   "cell_type": "code",
   "execution_count": 32,
   "metadata": {},
   "outputs": [
    {
     "data": {
      "text/plain": [
       "datetime.date(2020, 2, 1)"
      ]
     },
     "execution_count": 32,
     "metadata": {},
     "output_type": "execute_result"
    }
   ],
   "source": [
    "# get the earliest diagnosis date for every patient\n",
    "first_diag_date = dict()\n",
    "first_of_all = None\n",
    "\n",
    "for ptid in covidpositive_patients:\n",
    "    \n",
    "    dxdate = diagnosed_data.get(ptid, None)\n",
    "    tedate = detected_data.get(ptid, None)\n",
    "    \n",
    "    if dxdate is None and tedate is None:\n",
    "        raise Exception(\"Something went wrong.\")\n",
    "    \n",
    "    if dxdate is None:\n",
    "        first_diag_date[ptid] = tedate\n",
    "    elif tedate is None:\n",
    "        first_diag_date[ptid] = dxdate\n",
    "    else:\n",
    "        if tedate < dxdate:\n",
    "            first_diag_date[ptid] = tedate\n",
    "        else:\n",
    "            first_diag_date[ptid] = dxdate\n",
    "    \n",
    "    if first_of_all is None or first_diag_date[ptid] < first_of_all:\n",
    "        first_of_all = first_diag_date[ptid]\n",
    "        \n",
    "first_of_all"
   ]
  },
  {
   "cell_type": "code",
   "execution_count": 33,
   "metadata": {},
   "outputs": [],
   "source": [
    "first_diag_age = dict()\n",
    "\n",
    "for ptid in first_diag_date.keys():\n",
    "    \n",
    "    if not ptid in birthdate_data:\n",
    "        print(ptid)\n",
    "        break\n",
    "        continue\n",
    "    \n",
    "    if birthdate_data[ptid] is None:\n",
    "        print(ptid)\n",
    "        break\n",
    "    \n",
    "    first_diag_age[ptid] = (first_diag_date[ptid]-birthdate_data[ptid]).days/365.25"
   ]
  },
  {
   "cell_type": "code",
   "execution_count": 34,
   "metadata": {},
   "outputs": [
    {
     "data": {
      "text/plain": [
       "6531"
      ]
     },
     "execution_count": 34,
     "metadata": {},
     "output_type": "execute_result"
    }
   ],
   "source": [
    "len(first_diag_age)"
   ]
  },
  {
   "cell_type": "code",
   "execution_count": null,
   "metadata": {},
   "outputs": [],
   "source": []
  },
  {
   "cell_type": "markdown",
   "metadata": {},
   "source": [
    "# Outcomes\n",
    "\n",
    "## Intubation outcome"
   ]
  },
  {
   "cell_type": "code",
   "execution_count": 35,
   "metadata": {},
   "outputs": [
    {
     "name": "stdout",
     "output_type": "stream",
     "text": [
      "1107\n"
     ]
    }
   ],
   "source": [
    "# intubation outcome\n",
    "query = \"\"\"\n",
    "select pat_mrn_id, min(order_date)\n",
    "from 1_covid_intubation_orders_noname\n",
    "where date_retrieved = '%s'\n",
    "group by pat_mrn_id;\n",
    "\"\"\" % date_retrieved\n",
    "print(cur.execute(query))\n",
    "\n",
    "intub_data = dict()\n",
    "\n",
    "for ptid, intubdate in cur.fetchall():\n",
    "    intub_data[ptid] = convert_date(intubdate)"
   ]
  },
  {
   "cell_type": "markdown",
   "metadata": {},
   "source": [
    "## Death outcome\n",
    "\n",
    "Death is pullled when the patients are pulled above."
   ]
  },
  {
   "cell_type": "markdown",
   "metadata": {},
   "source": [
    "# Covariates"
   ]
  },
  {
   "cell_type": "markdown",
   "metadata": {},
   "source": [
    "## Macula (i.e. macular degeneration)"
   ]
  },
  {
   "cell_type": "code",
   "execution_count": 36,
   "metadata": {},
   "outputs": [
    {
     "name": "stdout",
     "output_type": "stream",
     "text": [
      "7\n"
     ]
    }
   ],
   "source": [
    "# patients with contemporary dx codes for macular degeneration\n",
    "query = \"\"\"\n",
    "select distinct pat_mrn_id\n",
    "from 1_covid_patients_noname\n",
    "where icd10_desc like \"%%macula%%deg%%\"\n",
    "and date_retrieved = '%s';\n",
    "\"\"\" % date_retrieved\n",
    "print(cur.execute(query))\n",
    "contemporary_macula_patients = set([row[0] for row in cur.fetchall()])"
   ]
  },
  {
   "cell_type": "code",
   "execution_count": 37,
   "metadata": {},
   "outputs": [
    {
     "data": {
      "text/plain": [
       "4"
      ]
     },
     "execution_count": 37,
     "metadata": {},
     "output_type": "execute_result"
    }
   ],
   "source": [
    "len(covidpositive_patients & contemporary_macula_patients)"
   ]
  },
  {
   "cell_type": "raw",
   "metadata": {},
   "source": [
    "select concept_id, count(*), count(distinct person_id), concept_name\n",
    "from concept_ancestor\n",
    "join condition_occurrence on (descendant_concept_id = condition_concept_id)\n",
    "join concept on (descendant_concept_id = concept_id)\n",
    "join 1_covid_patient2person using (person_id)\n",
    "where ancestor_concept_id = 4224741\n",
    "group by concept_id\n",
    "-- having count(distinct person_id) > 10\n",
    "order by 3 desc;\n",
    "\n",
    "376115\t120\t52\tCystoid macular retinal degeneration\n",
    "374028\t131\t47\tAge related macular degeneration\n",
    "372629\t53\t22\tNonexudative age-related macular degeneration\n",
    "376966\t122\t15\tExudative age-related macular degeneration\n",
    "4224741\t26\t12\tDegenerative disorder of macula\n",
    "375538\t58\t11\tDegeneration of macula due to cyst, hole or pseudohole\n",
    "4131963\t16\t9\tDrusen stage macular degeneration"
   ]
  },
  {
   "cell_type": "code",
   "execution_count": 39,
   "metadata": {},
   "outputs": [
    {
     "name": "stdout",
     "output_type": "stream",
     "text": [
      "540\n"
     ]
    }
   ],
   "source": [
    "# patients with historical dx codes for macula\n",
    "# query = \"\"\"\n",
    "# select pat_mrn_id\n",
    "# from condition_occurrence\n",
    "# join 1_covid_patient2person using (person_id)\n",
    "# where condition_concept_id in (374028, 372629, 4131963, 376966, 4224741, 372907, 4208223, 4146103);\n",
    "# \"\"\"\n",
    "query = \"\"\"\n",
    "select pat_mrn_id\n",
    "from condition_occurrence\n",
    "join concept_ancestor on (condition_concept_id = descendant_concept_id)\n",
    "join 1_covid_patient2person using (person_id)\n",
    "where ancestor_concept_id = 4224741\n",
    "\"\"\"\n",
    "print(cur.execute(query))\n",
    "historical_macula_patients = set([row[0] for row in cur.fetchall()])"
   ]
  },
  {
   "cell_type": "code",
   "execution_count": 40,
   "metadata": {},
   "outputs": [],
   "source": [
    "macula_patients = historical_macula_patients | contemporary_macula_patients"
   ]
  },
  {
   "cell_type": "code",
   "execution_count": 41,
   "metadata": {},
   "outputs": [
    {
     "data": {
      "text/plain": [
       "91"
      ]
     },
     "execution_count": 41,
     "metadata": {},
     "output_type": "execute_result"
    }
   ],
   "source": [
    "len(covidpositive_patients & macula_patients)"
   ]
  },
  {
   "cell_type": "markdown",
   "metadata": {},
   "source": [
    "## Complement Deficiency\n",
    "\n",
    "The commented out codes contained a mix of both activating and deficiency diseases. The\n",
    "cleaned up version is in the uncommented line. However, there are very few patients in this\n",
    "case so it is likely going to suffer from power limiations."
   ]
  },
  {
   "cell_type": "raw",
   "metadata": {},
   "source": [
    "select concept_id, count(*), count(distinct person_id), concept_name\n",
    "from concept_ancestor\n",
    "join condition_occurrence on (descendant_concept_id = condition_concept_id)\n",
    "join concept on (descendant_concept_id = concept_id)\n",
    "join 1_covid_patient2person using (person_id)\n",
    "where ancestor_concept_id in (4083784, 436621, 4083784, 4217780, 45773094, 4347067, 4149583, 4292535, 4048030, 35206839, 37109813)\n",
    "group by concept_id\n",
    "-- having count(distinct person_id) > 10\n",
    "order by 3 desc;\n",
    "\n",
    "4149583\t10\t6\tCryoglobulinemia\n",
    "133691\t3\t2\tMeningococcemia\n",
    "436621\t15\t1\tMeningococcal infectious disease\n",
    "4083784\t14\t1\tComplement deficiency disease"
   ]
  },
  {
   "cell_type": "code",
   "execution_count": 42,
   "metadata": {},
   "outputs": [
    {
     "name": "stdout",
     "output_type": "stream",
     "text": [
      "42\n"
     ]
    }
   ],
   "source": [
    "# query = \"\"\"\n",
    "# select pat_mrn_id\n",
    "# from condition_occurrence\n",
    "# join 1_covid_patient2person using (person_id)\n",
    "# -- where condition_concept_id in (312358,433740,45770906,434621,4039691,4083784,4182711,4263109,444208,4059452,4263367,4027384,4140613,4307793,192362,442074,4058972,4141633,37016359,37016360,37016361,37016362,37016363,37016364,37016365,44819813,44834830,44837186,37395432,37398898,4024671,35206736,40321693,40351345,40481388,45562709,35209206,4217780,45773094,4125812,36674519,313800,4111855,35208817,44832397,4347067,4149583,4292535,4048030,4103069,35206839,37109813)\n",
    "# -- where condition_concept_id in (4083784, 4217780, 45773094, 4347067, 4149583, 4292535, 4048030, 35206839, 37109813, 432296, 432863, 436658, 441363, 435781, 443929, 438489, 443133, 436483, 4058403, 4242238, 4065747)\n",
    "# \"\"\"\n",
    "query = \"\"\"\n",
    "select pat_mrn_id\n",
    "from concept_ancestor\n",
    "join condition_occurrence on (descendant_concept_id = condition_concept_id)\n",
    "join 1_covid_patient2person using (person_id)\n",
    "where ancestor_concept_id in (4083784, 436621, 4083784, 4217780, 45773094, 4347067, 4149583, 4292535, 4048030, 35206839, 37109813)\n",
    "\"\"\"\n",
    "print(cur.execute(query))\n",
    "historical_complement_patients = set([row[0] for row in cur.fetchall()])"
   ]
  },
  {
   "cell_type": "code",
   "execution_count": 43,
   "metadata": {},
   "outputs": [],
   "source": [
    "complement_patients = historical_complement_patients"
   ]
  },
  {
   "cell_type": "markdown",
   "metadata": {},
   "source": [
    "## Coagulation Disorders\n",
    "\n",
    "Used the following queries to find good ancestors for these three concepts.\n",
    "\n",
    "```\n",
    "# thrombocytopenia (432870), thrombosis (4208466) and hemorrhage (437312)\n",
    "select *\n",
    "from concept\n",
    "where concept_name like \"%hemorrhage%\"\n",
    "and vocabulary_id = 'SNOMED'\n",
    "and standard_concept = 'S';\n",
    "\n",
    "select concept_id, concept_name, count(*), count(distinct person_id)\n",
    "from concept_ancestor\n",
    "join condition_occurrence on (descendant_concept_id = condition_concept_id)\n",
    "join concept on (descendant_concept_id = concept_id)\n",
    "where ancestor_concept_id in (432870, 4208466, 437312)\n",
    "group by concept_id;\n",
    "```"
   ]
  },
  {
   "cell_type": "raw",
   "metadata": {},
   "source": [
    "select concept_id, count(*), count(distinct person_id), concept_name\n",
    "from concept_ancestor\n",
    "join condition_occurrence on (descendant_concept_id = condition_concept_id)\n",
    "join concept on (descendant_concept_id = concept_id)\n",
    "join 1_covid_patient2person using (person_id)\n",
    "where ancestor_concept_id = 316866\n",
    "group by concept_id\n",
    "having count(distinct person_id) > 10\n",
    "order by 3 desc;\n",
    "\n",
    "320128\t61211\t2812\tEssential hypertension\n",
    "312648\t4036\t660\tBenign essential hypertension\n",
    "317898\t426\t158\tMalignant essential hypertension\n",
    "316866\t353\t126\tHypertensive disorder\n",
    "319826\t741\t92\tSecondary hypertension\n",
    "439393\t123\t60\tPre-eclampsia\n",
    "40481896\t139\t54\tHypertensive urgency\n",
    "43020424\t85\t36\tHypertensive emergency\n",
    "317895\t64\t30\tRenovascular hypertension\n",
    "4167493\t80\t28\tPregnancy-induced hypertension\n",
    "137940\t39\t27\tTransient hypertension of pregnancy - delivered\n",
    "321074\t68\t22\tPre-existing hypertension complicating pregnancy, childbirth and puerperium\n",
    "314423\t102\t18\tBenign essential hypertension complicating pregnancy, childbirth and the puerperium - not delivered\n",
    "321080\t39\t17\tHypertension complicating pregnancy, childbirth and the puerperium\n",
    "136743\t58\t16\tPre-eclampsia or eclampsia with pre-existing hypertension - not delivered\n",
    "433536\t45\t14\tSevere pre-eclampsia\n",
    "314103\t17\t14\tBenign essential hypertension complicating pregnancy, childbirth and the puerperium - delivered\n",
    "441922\t28\t14\tTransient hypertension of pregnancy\n",
    "4118910\t20\t13\tMaternal hypertension\n",
    "314958\t27\t13\tBenign secondary hypertension\n",
    "438490\t15\t12\tSevere pre-eclampsia - delivered\n",
    "4249016\t26\t11\tBenign secondary renovascular hypertension"
   ]
  },
  {
   "cell_type": "code",
   "execution_count": 44,
   "metadata": {},
   "outputs": [
    {
     "name": "stdout",
     "output_type": "stream",
     "text": [
      "23967\n"
     ]
    }
   ],
   "source": [
    "query = \"\"\"\n",
    "select pat_mrn_id\n",
    "from concept_ancestor\n",
    "join condition_occurrence on (descendant_concept_id = condition_concept_id)\n",
    "join 1_covid_patient2person using (person_id)\n",
    "where ancestor_concept_id in (432870, 4208466, 437312)\n",
    "\"\"\"\n",
    "print(cur.execute(query))\n",
    "historical_coagulation_patients = set([row[0] for row in cur.fetchall()])"
   ]
  },
  {
   "cell_type": "code",
   "execution_count": 46,
   "metadata": {},
   "outputs": [],
   "source": [
    "coagulation_patients = historical_coagulation_patients"
   ]
  },
  {
   "cell_type": "code",
   "execution_count": 47,
   "metadata": {},
   "outputs": [
    {
     "data": {
      "text/plain": [
       "1221"
      ]
     },
     "execution_count": 47,
     "metadata": {},
     "output_type": "execute_result"
    }
   ],
   "source": [
    "len(covidpositive_patients & coagulation_patients)"
   ]
  },
  {
   "cell_type": "markdown",
   "metadata": {},
   "source": [
    "## Diabetic Kidney Disease"
   ]
  },
  {
   "cell_type": "raw",
   "metadata": {},
   "source": [
    "select concept_id, count(*), count(distinct person_id), concept_name\n",
    "from concept_ancestor\n",
    "join condition_occurrence on (descendant_concept_id = condition_concept_id)\n",
    "join concept on (descendant_concept_id = concept_id)\n",
    "join 1_covid_patient2person using (person_id)\n",
    "where ancestor_concept_id = 192279\n",
    "group by concept_id\n",
    "-- having count(distinct person_id) > 10\n",
    "order by 3 desc;\n",
    "\n",
    "192279\t853\t154\tKidney disorder due to diabetes mellitus\n",
    "443731\t760\t139\tRenal disorder due to type 2 diabetes mellitus\n",
    "200687\t202\t52\tRenal disorder associated with type 1 diabetes mellitus"
   ]
  },
  {
   "cell_type": "code",
   "execution_count": 48,
   "metadata": {},
   "outputs": [
    {
     "name": "stdout",
     "output_type": "stream",
     "text": [
      "1855\n"
     ]
    }
   ],
   "source": [
    "query = \"\"\"\n",
    "select pat_mrn_id\n",
    "from concept_ancestor\n",
    "join condition_occurrence on (descendant_concept_id = condition_concept_id)\n",
    "join 1_covid_patient2person using (person_id)\n",
    "where ancestor_concept_id = 192279\n",
    "\"\"\"\n",
    "print(cur.execute(query))\n",
    "historical_dmkidneydisease_patients = set([row[0] for row in cur.fetchall()])"
   ]
  },
  {
   "cell_type": "code",
   "execution_count": 49,
   "metadata": {},
   "outputs": [],
   "source": [
    "dmkidneydiseae_patients = historical_dmkidneydisease_patients"
   ]
  },
  {
   "cell_type": "code",
   "execution_count": 50,
   "metadata": {},
   "outputs": [
    {
     "data": {
      "text/plain": [
       "154"
      ]
     },
     "execution_count": 50,
     "metadata": {},
     "output_type": "execute_result"
    }
   ],
   "source": [
    "len(covidpositive_patients & dmkidneydiseae_patients)"
   ]
  },
  {
   "cell_type": "markdown",
   "metadata": {},
   "source": [
    "## Hypertension"
   ]
  },
  {
   "cell_type": "raw",
   "metadata": {},
   "source": [
    "select concept_id, count(*), count(distinct person_id), concept_name\n",
    "from concept_ancestor\n",
    "join condition_occurrence on (descendant_concept_id = condition_concept_id)\n",
    "join concept on (descendant_concept_id = concept_id)\n",
    "join 1_covid_patient2person using (person_id)\n",
    "where ancestor_concept_id = 316866\n",
    "group by concept_id\n",
    "having count(distinct person_id) > 10\n",
    "order by 3 desc;\n",
    "\n",
    "320128\t61211\t2812\tEssential hypertension\n",
    "312648\t4036\t660\tBenign essential hypertension\n",
    "317898\t426\t158\tMalignant essential hypertension\n",
    "316866\t353\t126\tHypertensive disorder\n",
    "319826\t741\t92\tSecondary hypertension\n",
    "439393\t123\t60\tPre-eclampsia\n",
    "40481896\t139\t54\tHypertensive urgency\n",
    "43020424\t85\t36\tHypertensive emergency\n",
    "317895\t64\t30\tRenovascular hypertension\n",
    "4167493\t80\t28\tPregnancy-induced hypertension\n",
    "137940\t39\t27\tTransient hypertension of pregnancy - delivered\n",
    "321074\t68\t22\tPre-existing hypertension complicating pregnancy, childbirth and puerperium\n",
    "314423\t102\t18\tBenign essential hypertension complicating pregnancy, childbirth and the puerperium - not delivered\n",
    "321080\t39\t17\tHypertension complicating pregnancy, childbirth and the puerperium\n",
    "136743\t58\t16\tPre-eclampsia or eclampsia with pre-existing hypertension - not delivered\n",
    "433536\t45\t14\tSevere pre-eclampsia\n",
    "314103\t17\t14\tBenign essential hypertension complicating pregnancy, childbirth and the puerperium - delivered\n",
    "441922\t28\t14\tTransient hypertension of pregnancy\n",
    "4118910\t20\t13\tMaternal hypertension\n",
    "314958\t27\t13\tBenign secondary hypertension\n",
    "438490\t15\t12\tSevere pre-eclampsia - delivered\n",
    "4249016\t26\t11\tBenign secondary renovascular hypertension"
   ]
  },
  {
   "cell_type": "code",
   "execution_count": 51,
   "metadata": {},
   "outputs": [
    {
     "name": "stdout",
     "output_type": "stream",
     "text": [
      "70956\n"
     ]
    }
   ],
   "source": [
    "query = \"\"\"\n",
    "select pat_mrn_id\n",
    "from concept_ancestor\n",
    "join condition_occurrence on (descendant_concept_id = condition_concept_id)\n",
    "join 1_covid_patient2person using (person_id)\n",
    "where ancestor_concept_id = 316866\n",
    "\"\"\"\n",
    "print(cur.execute(query))\n",
    "historical_hypertension_patients = set([row[0] for row in cur.fetchall()])"
   ]
  },
  {
   "cell_type": "markdown",
   "metadata": {},
   "source": [
    "## Obesity"
   ]
  },
  {
   "cell_type": "raw",
   "metadata": {},
   "source": [
    "select concept_id, count(*), count(distinct person_id), concept_name\n",
    "from concept_ancestor\n",
    "join condition_occurrence on (descendant_concept_id = condition_concept_id)\n",
    "join concept on (descendant_concept_id = concept_id)\n",
    "join 1_covid_patient2person using (person_id)\n",
    "where ancestor_concept_id = 433736\n",
    "group by concept_id\n",
    "-- having count(distinct person_id) > 10\n",
    "order by 3 desc;\n",
    "\n",
    "433736\t7043\t1089\tObesity\n",
    "434005\t4849\t458\tMorbid obesity\n",
    "42872398\t450\t74\tMaternal obesity complicating pregnancy, childbirth and the puerperium, antepartum\n",
    "4100857\t195\t36\tExtreme obesity with alveolar hypoventilation\n",
    "439893\t65\t34\tMaternal obesity syndrome\n",
    "45757112\t25\t23\tObesity in mother complicating childbirth\n",
    "438731\t17\t13\tLocalized adiposity\n",
    "40481140\t5\t4\tChildhood obesity\n",
    "4097996\t11\t1\tDrug-induced obesity"
   ]
  },
  {
   "cell_type": "code",
   "execution_count": 52,
   "metadata": {},
   "outputs": [
    {
     "name": "stdout",
     "output_type": "stream",
     "text": [
      "13219\n"
     ]
    }
   ],
   "source": [
    "query = \"\"\"\n",
    "select pat_mrn_id\n",
    "from concept_ancestor\n",
    "join condition_occurrence on (descendant_concept_id = condition_concept_id)\n",
    "join 1_covid_patient2person using (person_id)\n",
    "where ancestor_concept_id = 433736\n",
    "\"\"\"\n",
    "print(cur.execute(query))\n",
    "historical_obesity_patients = set([row[0] for row in cur.fetchall()])"
   ]
  },
  {
   "cell_type": "markdown",
   "metadata": {},
   "source": [
    "## Type 2 Diabetes\n"
   ]
  },
  {
   "cell_type": "raw",
   "metadata": {},
   "source": [
    "select concept_id, count(*), count(distinct person_id), concept_name\n",
    "from concept_ancestor\n",
    "join condition_occurrence on (descendant_concept_id = condition_concept_id)\n",
    "join concept on (descendant_concept_id = concept_id)\n",
    "join 1_covid_patient2person using (person_id)\n",
    "where ancestor_concept_id = 201826\n",
    "group by concept_id\n",
    "having count(distinct person_id) > 10\n",
    "order by 3 desc;\n",
    "\n",
    "4193704\t13853\t1132\tType 2 diabetes mellitus without complication\n",
    "201826\t7746\t754\tType 2 diabetes mellitus\n",
    "376065\t482\t132\tNeurological disorder with diabetes type 2\n",
    "37017432\t248\t85\tPolyneuropathy due to type 2 diabetes mellitus\n",
    "443733\t213\t71\tDisorder of eye with type 2 diabetes mellitus\n",
    "4221495\t37\t23\tCataract due to diabetes mellitus type 2\n",
    "37016768\t226\t23\tAutonomic neuropathy with type 2 diabetes mellitus\n",
    "43530685\t60\t16\tProliferative diabetic retinopathy due to type 2 diabetes mellitus\n",
    "45770881\t30\t15\tModerate nonproliferative retinopathy due to type 2 diabetes mellitus\n",
    "45757435\t105\t15\tMild nonproliferative retinopathy due to type 2 diabetes mellitus\n",
    "45770830\t69\t14\tMacular edema and retinopathy due to type 2 diabetes mellitus\n",
    "4099651\t24\t12\tType 2 diabetes mellitus with ulcer"
   ]
  },
  {
   "cell_type": "code",
   "execution_count": 53,
   "metadata": {},
   "outputs": [
    {
     "name": "stdout",
     "output_type": "stream",
     "text": [
      "24132\n"
     ]
    }
   ],
   "source": [
    "query = \"\"\"\n",
    "select pat_mrn_id\n",
    "from concept_ancestor\n",
    "join condition_occurrence on (descendant_concept_id = condition_concept_id)\n",
    "join 1_covid_patient2person using (person_id)\n",
    "where ancestor_concept_id = 201826\n",
    "\"\"\"\n",
    "print(cur.execute(query))\n",
    "historical_t2dm_patients = set([row[0] for row in cur.fetchall()])"
   ]
  },
  {
   "cell_type": "markdown",
   "metadata": {},
   "source": [
    "## Coronary Arterial Disease"
   ]
  },
  {
   "cell_type": "raw",
   "metadata": {},
   "source": [
    "select concept_id, count(*), count(distinct person_id), concept_name\n",
    "from concept_ancestor\n",
    "join condition_occurrence on (descendant_concept_id = condition_concept_id)\n",
    "join concept on (descendant_concept_id = concept_id)\n",
    "join 1_covid_patient2person using (person_id)\n",
    "where ancestor_concept_id = 321588\n",
    "group by concept_id\n",
    "having count(distinct person_id) > 100\n",
    "order by 3 desc;\n",
    "\n",
    "319835\t16054\t811\tCongestive heart failure\n",
    "764123\t7544\t751\tAtherosclerosis of coronary artery without angina pectoris\n",
    "314658\t2081\t698\tCardiomegaly\n",
    "313217\t13611\t680\tAtrial fibrillation\n",
    "44784217\t1913\t678\tCardiac arrhythmia\n",
    "42872402\t5878\t653\tCoronary arteriosclerosis in native artery\n",
    "315286\t2610\t513\tChronic ischemic heart disease\n",
    "315296\t1690\t478\tPreinfarction syndrome\n",
    "316139\t5914\t475\tHeart failure\n",
    "40481919\t3174\t413\tCoronary atherosclerosis\n",
    "321318\t1472\t390\tAngina pectoris\n",
    "319843\t1412\t361\tMitral valve disorder\n",
    "314666\t1493\t355\tOld myocardial infarction\n",
    "40479192\t3700\t309\tChronic systolic heart failure\n",
    "316998\t605\t295\tLeft bundle branch block\n",
    "321588\t787\t295\tHeart disease\n",
    "314054\t1415\t268\tAortic valve disorder\n",
    "439846\t1735\t233\tLeft heart failure\n",
    "444101\t586\t224\tHypertensive heart failure\n",
    "4232495\t1825\t211\tPrimary cardiomyopathy\n",
    "443580\t1169\t207\tSystolic heart failure\n",
    "314059\t356\t199\tRight bundle branch block\n",
    "45766207\t926\t197\tNon-rheumatic mitral valve stenosis with regurgitation\n",
    "40479576\t1125\t192\tChronic diastolic heart failure\n",
    "315831\t1147\t180\tChronic pulmonary heart disease\n",
    "321319\t1296\t179\tCardiomyopathy\n",
    "40480602\t1808\t171\tAcute on chronic systolic heart failure\n",
    "312327\t564\t170\tAcute myocardial infarction\n",
    "4154290\t1502\t169\tParoxysmal atrial fibrillation\n",
    "443587\t1009\t164\tDiastolic heart failure\n",
    "439696\t698\t163\tHypertensive heart and renal disease with (congestive) heart failure\n",
    "314665\t1300\t162\tAtrial flutter\n",
    "319034\t555\t160\tHypertensive heart disease without congestive heart failure\n",
    "317302\t439\t158\tSinus node dysfunction\n",
    "40480603\t576\t136\tAcute systolic heart failure\n",
    "4232337\t411\t135\tValvular endocarditis\n",
    "437579\t758\t134\tParoxysmal ventricular tachycardia\n",
    "314379\t231\t124\tFirst degree atrioventricular block\n",
    "4152384\t1663\t121\tNon-rheumatic aortic sclerosis\n",
    "4110961\t973\t119\tGeneralized ischemic myocardial dysfunction\n",
    "4275423\t425\t116\tSupraventricular tachycardia\n",
    "444406\t343\t115\tAcute subendocardial infarction\n",
    "4103295\t1077\t113\tVentricular tachycardia\n",
    "40481043\t829\t106\tAcute on chronic diastolic heart failure\n",
    "4270024\t691\t102\tAcute non-ST segment elevation myocardial infarction\n",
    "314369\t262\t101\tMalignant hypertensive heart disease without congestive heart failure"
   ]
  },
  {
   "cell_type": "code",
   "execution_count": 54,
   "metadata": {},
   "outputs": [
    {
     "name": "stdout",
     "output_type": "stream",
     "text": [
      "131426\n"
     ]
    }
   ],
   "source": [
    "query = \"\"\"\n",
    "select pat_mrn_id\n",
    "from concept_ancestor\n",
    "join condition_occurrence on (descendant_concept_id = condition_concept_id)\n",
    "join 1_covid_patient2person using (person_id)\n",
    "where ancestor_concept_id = 321588\n",
    "\"\"\"\n",
    "print(cur.execute(query))\n",
    "historical_cad_patients = set([row[0] for row in cur.fetchall()])"
   ]
  },
  {
   "cell_type": "markdown",
   "metadata": {},
   "source": [
    "## A reference symptom\n"
   ]
  },
  {
   "cell_type": "code",
   "execution_count": 55,
   "metadata": {},
   "outputs": [
    {
     "name": "stdout",
     "output_type": "stream",
     "text": [
      "1222\n"
     ]
    }
   ],
   "source": [
    "query = \"\"\"\n",
    "select pat_mrn_id\n",
    "from 1_covid_patients_noname\n",
    "where icd10_code = 'R05' # Cough\n",
    "and date_retrieved = '%s'\n",
    "\"\"\" % date_retrieved\n",
    "print(cur.execute(query))\n",
    "historical_refctl_patients = set([row[0] for row in cur.fetchall()])"
   ]
  },
  {
   "cell_type": "markdown",
   "metadata": {},
   "source": [
    "# Set up the data frame"
   ]
  },
  {
   "cell_type": "code",
   "execution_count": 56,
   "metadata": {},
   "outputs": [],
   "source": [
    "sorted_master_patient_set = sorted(master_patient_set)"
   ]
  },
  {
   "cell_type": "code",
   "execution_count": 57,
   "metadata": {},
   "outputs": [],
   "source": [
    "## For the outcomes of intubation and death, we compute the days to that endpoint\n",
    "study_end_date = convert_date(date_retrieved)\n",
    "\n",
    "days_to_intubation = list()\n",
    "intubation_event = list()\n",
    "\n",
    "days_to_death = list()\n",
    "death_event = list()\n",
    "\n",
    "ages = list()\n",
    "\n",
    "for ptid in sorted_master_patient_set:\n",
    "    \n",
    "    # is this a covid+ patient?\n",
    "    if ptid in first_diag_date:\n",
    "        idays = (intub_data.get(ptid, study_end_date)-first_diag_date[ptid]).days\n",
    "        if ptid in intub_data:\n",
    "            intub = 1\n",
    "        else:\n",
    "            intub = 0\n",
    "        \n",
    "        ddays = (deathdate_data.get(ptid, study_end_date)-first_diag_date[ptid]).days\n",
    "        if ptid in deathdate_data:\n",
    "            death = 1\n",
    "        else:\n",
    "            death = 0\n",
    "        \n",
    "        age = first_diag_age[ptid]\n",
    "    else:\n",
    "        # this patient won't and shouldn't be used for coxph\n",
    "        idays = None\n",
    "        intub = None\n",
    "        ddays = None\n",
    "        death = None\n",
    "        age = (study_end_date-birthdate_data[ptid]).days/365.25\n",
    "    \n",
    "    days_to_intubation.append(idays)\n",
    "    intubation_event.append(intub)\n",
    "    \n",
    "    days_to_death.append(ddays)\n",
    "    death_event.append(death)\n",
    "    \n",
    "    ages.append(age)\n"
   ]
  },
  {
   "cell_type": "code",
   "execution_count": 59,
   "metadata": {},
   "outputs": [],
   "source": [
    "# race and ethnicity need to be turned into indicator variables, or I guess we're calling\n",
    "# it one hot encoded now.\n",
    "\n",
    "race_black_pts = set()\n",
    "race_asian_pts = set()\n",
    "race_declined_pts = set()\n",
    "race_white_pts = set()\n",
    "race_other_pts = set()\n",
    "\n",
    "for ptid in race_data:\n",
    "        \n",
    "    if race_data[ptid].startswith('BLACK'):\n",
    "        race_black_pts.add(ptid)\n",
    "    elif race_data[ptid] == 'ASIAN':\n",
    "        race_asian_pts.add(ptid)\n",
    "    elif race_data[ptid] == 'WHITE':\n",
    "        race_white_pts.add(ptid)\n",
    "    elif race_data[ptid] == 'DECLINED':\n",
    "        race_declined_pts.add(ptid)\n",
    "    else:\n",
    "        race_other_pts.add(ptid)\n",
    "\n",
    "        \n",
    "race_black = [1 if ptid in race_black_pts else 0 for ptid in sorted_master_patient_set]\n",
    "race_asian = [1 if ptid in race_asian_pts else 0 for ptid in sorted_master_patient_set]\n",
    "race_white = [1 if ptid in race_white_pts else 0 for ptid in sorted_master_patient_set]\n",
    "race_declined = [1 if ptid in race_declined_pts else 0 for ptid in sorted_master_patient_set]\n",
    "race_other = [1 if ptid in race_other_pts else 0 for ptid in sorted_master_patient_set]"
   ]
  },
  {
   "cell_type": "code",
   "execution_count": 61,
   "metadata": {},
   "outputs": [],
   "source": [
    "eth_hispanic_pts = set()\n",
    "eth_nonhispanic_pts = set()\n",
    "eth_declinedother_pts = set()\n",
    "\n",
    "for ptid in ethnicity_data:\n",
    "    \n",
    "    if ethnicity_data[ptid].startswith('HISP'):\n",
    "        eth_hispanic_pts.add(ptid)\n",
    "    elif ethnicity_data[ptid].startswith('NOT H'):\n",
    "        eth_nonhispanic_pts.add(ptid)\n",
    "    else:\n",
    "        eth_declinedother_pts.add(ptid)\n",
    "\n",
    "eth_hispanic = [1 if ptid in eth_hispanic_pts else 0 for ptid in sorted_master_patient_set]\n",
    "eth_nonhispanic = [1 if ptid in eth_nonhispanic_pts else 0 for ptid in sorted_master_patient_set]\n",
    "eth_declinedother = [1 if ptid in eth_declinedother_pts else 0 for ptid in sorted_master_patient_set]"
   ]
  },
  {
   "cell_type": "code",
   "execution_count": 62,
   "metadata": {},
   "outputs": [],
   "source": [
    "# hypothesized covariates\n",
    "macula = [1 if ptid in macula_patients else 0 for ptid in sorted_master_patient_set]\n",
    "complement = [1 if ptid in complement_patients else 0 for ptid in sorted_master_patient_set]\n",
    "coagulation = [1 if ptid in coagulation_patients else 0 for ptid in sorted_master_patient_set]\n",
    "\n",
    "# other covariates\n",
    "hypertension = [1 if ptid in historical_hypertension_patients else 0 for ptid in sorted_master_patient_set]\n",
    "t2dm = [1 if ptid in historical_t2dm_patients else 0 for ptid in sorted_master_patient_set]\n",
    "cad = [1 if ptid in historical_cad_patients else 0 for ptid in sorted_master_patient_set]\n",
    "obesity = [1 if ptid in historical_obesity_patients else 0 for ptid in sorted_master_patient_set]\n",
    "sex = [sex_data[ptid]-1 for ptid in sorted_master_patient_set]\n",
    "\n",
    "# reference/control covariates\n",
    "refctrl = [1 if ptid in historical_refctl_patients else 0 for ptid in sorted_master_patient_set]"
   ]
  },
  {
   "cell_type": "code",
   "execution_count": 68,
   "metadata": {},
   "outputs": [
    {
     "data": {
      "text/html": [
       "<div>\n",
       "<style scoped>\n",
       "    .dataframe tbody tr th:only-of-type {\n",
       "        vertical-align: middle;\n",
       "    }\n",
       "\n",
       "    .dataframe tbody tr th {\n",
       "        vertical-align: top;\n",
       "    }\n",
       "\n",
       "    .dataframe thead th {\n",
       "        text-align: right;\n",
       "    }\n",
       "</style>\n",
       "<table border=\"1\" class=\"dataframe\">\n",
       "  <thead>\n",
       "    <tr style=\"text-align: right;\">\n",
       "      <th></th>\n",
       "      <th>pat_mrn_id</th>\n",
       "      <th>intubated</th>\n",
       "      <th>days_to_intubation</th>\n",
       "      <th>died</th>\n",
       "      <th>days_to_death</th>\n",
       "      <th>age</th>\n",
       "      <th>sex</th>\n",
       "      <th>macula</th>\n",
       "      <th>compl_def</th>\n",
       "      <th>coagulation</th>\n",
       "      <th>...</th>\n",
       "      <th>cad</th>\n",
       "      <th>refctrl</th>\n",
       "      <th>race_black</th>\n",
       "      <th>race_asian</th>\n",
       "      <th>race_white</th>\n",
       "      <th>race_other</th>\n",
       "      <th>race_declined</th>\n",
       "      <th>eth_hispanic</th>\n",
       "      <th>eth_nonhispanic</th>\n",
       "      <th>eth_declinedother</th>\n",
       "    </tr>\n",
       "  </thead>\n",
       "  <tbody>\n",
       "    <tr>\n",
       "      <th>count</th>\n",
       "      <td>1.111600e+04</td>\n",
       "      <td>6531.000000</td>\n",
       "      <td>6531.000000</td>\n",
       "      <td>6531.000000</td>\n",
       "      <td>6531.000000</td>\n",
       "      <td>11116.000000</td>\n",
       "      <td>11116.000000</td>\n",
       "      <td>11116.000000</td>\n",
       "      <td>11116.000000</td>\n",
       "      <td>11116.000000</td>\n",
       "      <td>...</td>\n",
       "      <td>11116.000000</td>\n",
       "      <td>11116.000000</td>\n",
       "      <td>11116.000000</td>\n",
       "      <td>11116.000000</td>\n",
       "      <td>11116.000000</td>\n",
       "      <td>11116.000000</td>\n",
       "      <td>11116.000000</td>\n",
       "      <td>11116.000000</td>\n",
       "      <td>11116.000000</td>\n",
       "      <td>11116.000000</td>\n",
       "    </tr>\n",
       "    <tr>\n",
       "      <th>mean</th>\n",
       "      <td>1.103351e+09</td>\n",
       "      <td>0.092176</td>\n",
       "      <td>18.861736</td>\n",
       "      <td>0.090951</td>\n",
       "      <td>19.773695</td>\n",
       "      <td>51.996838</td>\n",
       "      <td>0.447733</td>\n",
       "      <td>0.011335</td>\n",
       "      <td>0.000810</td>\n",
       "      <td>0.181810</td>\n",
       "      <td>...</td>\n",
       "      <td>0.237136</td>\n",
       "      <td>0.091310</td>\n",
       "      <td>0.211857</td>\n",
       "      <td>0.026718</td>\n",
       "      <td>0.313152</td>\n",
       "      <td>0.268262</td>\n",
       "      <td>0.180011</td>\n",
       "      <td>0.316661</td>\n",
       "      <td>0.394476</td>\n",
       "      <td>0.288863</td>\n",
       "    </tr>\n",
       "    <tr>\n",
       "      <th>std</th>\n",
       "      <td>1.336290e+08</td>\n",
       "      <td>0.289296</td>\n",
       "      <td>12.746979</td>\n",
       "      <td>0.287561</td>\n",
       "      <td>11.916822</td>\n",
       "      <td>22.618502</td>\n",
       "      <td>0.497283</td>\n",
       "      <td>0.105866</td>\n",
       "      <td>0.028444</td>\n",
       "      <td>0.385705</td>\n",
       "      <td>...</td>\n",
       "      <td>0.425345</td>\n",
       "      <td>0.288062</td>\n",
       "      <td>0.408642</td>\n",
       "      <td>0.161266</td>\n",
       "      <td>0.463797</td>\n",
       "      <td>0.443075</td>\n",
       "      <td>0.384214</td>\n",
       "      <td>0.465195</td>\n",
       "      <td>0.488760</td>\n",
       "      <td>0.453254</td>\n",
       "    </tr>\n",
       "    <tr>\n",
       "      <th>min</th>\n",
       "      <td>1.000001e+09</td>\n",
       "      <td>0.000000</td>\n",
       "      <td>-75.000000</td>\n",
       "      <td>0.000000</td>\n",
       "      <td>-220.000000</td>\n",
       "      <td>0.002738</td>\n",
       "      <td>0.000000</td>\n",
       "      <td>0.000000</td>\n",
       "      <td>0.000000</td>\n",
       "      <td>0.000000</td>\n",
       "      <td>...</td>\n",
       "      <td>0.000000</td>\n",
       "      <td>0.000000</td>\n",
       "      <td>0.000000</td>\n",
       "      <td>0.000000</td>\n",
       "      <td>0.000000</td>\n",
       "      <td>0.000000</td>\n",
       "      <td>0.000000</td>\n",
       "      <td>0.000000</td>\n",
       "      <td>0.000000</td>\n",
       "      <td>0.000000</td>\n",
       "    </tr>\n",
       "    <tr>\n",
       "      <th>25%</th>\n",
       "      <td>1.004833e+09</td>\n",
       "      <td>0.000000</td>\n",
       "      <td>10.000000</td>\n",
       "      <td>0.000000</td>\n",
       "      <td>11.000000</td>\n",
       "      <td>34.718001</td>\n",
       "      <td>0.000000</td>\n",
       "      <td>0.000000</td>\n",
       "      <td>0.000000</td>\n",
       "      <td>0.000000</td>\n",
       "      <td>...</td>\n",
       "      <td>0.000000</td>\n",
       "      <td>0.000000</td>\n",
       "      <td>0.000000</td>\n",
       "      <td>0.000000</td>\n",
       "      <td>0.000000</td>\n",
       "      <td>0.000000</td>\n",
       "      <td>0.000000</td>\n",
       "      <td>0.000000</td>\n",
       "      <td>0.000000</td>\n",
       "      <td>0.000000</td>\n",
       "    </tr>\n",
       "    <tr>\n",
       "      <th>50%</th>\n",
       "      <td>1.010136e+09</td>\n",
       "      <td>0.000000</td>\n",
       "      <td>20.000000</td>\n",
       "      <td>0.000000</td>\n",
       "      <td>20.000000</td>\n",
       "      <td>53.533196</td>\n",
       "      <td>0.000000</td>\n",
       "      <td>0.000000</td>\n",
       "      <td>0.000000</td>\n",
       "      <td>0.000000</td>\n",
       "      <td>...</td>\n",
       "      <td>0.000000</td>\n",
       "      <td>0.000000</td>\n",
       "      <td>0.000000</td>\n",
       "      <td>0.000000</td>\n",
       "      <td>0.000000</td>\n",
       "      <td>0.000000</td>\n",
       "      <td>0.000000</td>\n",
       "      <td>0.000000</td>\n",
       "      <td>0.000000</td>\n",
       "      <td>0.000000</td>\n",
       "    </tr>\n",
       "    <tr>\n",
       "      <th>75%</th>\n",
       "      <td>1.200942e+09</td>\n",
       "      <td>0.000000</td>\n",
       "      <td>28.000000</td>\n",
       "      <td>0.000000</td>\n",
       "      <td>28.000000</td>\n",
       "      <td>69.492129</td>\n",
       "      <td>1.000000</td>\n",
       "      <td>0.000000</td>\n",
       "      <td>0.000000</td>\n",
       "      <td>0.000000</td>\n",
       "      <td>...</td>\n",
       "      <td>0.000000</td>\n",
       "      <td>0.000000</td>\n",
       "      <td>0.000000</td>\n",
       "      <td>0.000000</td>\n",
       "      <td>1.000000</td>\n",
       "      <td>1.000000</td>\n",
       "      <td>0.000000</td>\n",
       "      <td>1.000000</td>\n",
       "      <td>1.000000</td>\n",
       "      <td>1.000000</td>\n",
       "    </tr>\n",
       "    <tr>\n",
       "      <th>max</th>\n",
       "      <td>1.400038e+09</td>\n",
       "      <td>1.000000</td>\n",
       "      <td>84.000000</td>\n",
       "      <td>1.000000</td>\n",
       "      <td>234.000000</td>\n",
       "      <td>120.312115</td>\n",
       "      <td>1.000000</td>\n",
       "      <td>1.000000</td>\n",
       "      <td>1.000000</td>\n",
       "      <td>1.000000</td>\n",
       "      <td>...</td>\n",
       "      <td>1.000000</td>\n",
       "      <td>1.000000</td>\n",
       "      <td>1.000000</td>\n",
       "      <td>1.000000</td>\n",
       "      <td>1.000000</td>\n",
       "      <td>1.000000</td>\n",
       "      <td>1.000000</td>\n",
       "      <td>1.000000</td>\n",
       "      <td>1.000000</td>\n",
       "      <td>1.000000</td>\n",
       "    </tr>\n",
       "  </tbody>\n",
       "</table>\n",
       "<p>8 rows × 23 columns</p>\n",
       "</div>"
      ],
      "text/plain": [
       "         pat_mrn_id    intubated  days_to_intubation         died  \\\n",
       "count  1.111600e+04  6531.000000         6531.000000  6531.000000   \n",
       "mean   1.103351e+09     0.092176           18.861736     0.090951   \n",
       "std    1.336290e+08     0.289296           12.746979     0.287561   \n",
       "min    1.000001e+09     0.000000          -75.000000     0.000000   \n",
       "25%    1.004833e+09     0.000000           10.000000     0.000000   \n",
       "50%    1.010136e+09     0.000000           20.000000     0.000000   \n",
       "75%    1.200942e+09     0.000000           28.000000     0.000000   \n",
       "max    1.400038e+09     1.000000           84.000000     1.000000   \n",
       "\n",
       "       days_to_death           age           sex        macula     compl_def  \\\n",
       "count    6531.000000  11116.000000  11116.000000  11116.000000  11116.000000   \n",
       "mean       19.773695     51.996838      0.447733      0.011335      0.000810   \n",
       "std        11.916822     22.618502      0.497283      0.105866      0.028444   \n",
       "min      -220.000000      0.002738      0.000000      0.000000      0.000000   \n",
       "25%        11.000000     34.718001      0.000000      0.000000      0.000000   \n",
       "50%        20.000000     53.533196      0.000000      0.000000      0.000000   \n",
       "75%        28.000000     69.492129      1.000000      0.000000      0.000000   \n",
       "max       234.000000    120.312115      1.000000      1.000000      1.000000   \n",
       "\n",
       "        coagulation  ...           cad       refctrl    race_black  \\\n",
       "count  11116.000000  ...  11116.000000  11116.000000  11116.000000   \n",
       "mean       0.181810  ...      0.237136      0.091310      0.211857   \n",
       "std        0.385705  ...      0.425345      0.288062      0.408642   \n",
       "min        0.000000  ...      0.000000      0.000000      0.000000   \n",
       "25%        0.000000  ...      0.000000      0.000000      0.000000   \n",
       "50%        0.000000  ...      0.000000      0.000000      0.000000   \n",
       "75%        0.000000  ...      0.000000      0.000000      0.000000   \n",
       "max        1.000000  ...      1.000000      1.000000      1.000000   \n",
       "\n",
       "         race_asian    race_white    race_other  race_declined  eth_hispanic  \\\n",
       "count  11116.000000  11116.000000  11116.000000   11116.000000  11116.000000   \n",
       "mean       0.026718      0.313152      0.268262       0.180011      0.316661   \n",
       "std        0.161266      0.463797      0.443075       0.384214      0.465195   \n",
       "min        0.000000      0.000000      0.000000       0.000000      0.000000   \n",
       "25%        0.000000      0.000000      0.000000       0.000000      0.000000   \n",
       "50%        0.000000      0.000000      0.000000       0.000000      0.000000   \n",
       "75%        0.000000      1.000000      1.000000       0.000000      1.000000   \n",
       "max        1.000000      1.000000      1.000000       1.000000      1.000000   \n",
       "\n",
       "       eth_nonhispanic  eth_declinedother  \n",
       "count     11116.000000       11116.000000  \n",
       "mean          0.394476           0.288863  \n",
       "std           0.488760           0.453254  \n",
       "min           0.000000           0.000000  \n",
       "25%           0.000000           0.000000  \n",
       "50%           0.000000           0.000000  \n",
       "75%           1.000000           1.000000  \n",
       "max           1.000000           1.000000  \n",
       "\n",
       "[8 rows x 23 columns]"
      ]
     },
     "execution_count": 68,
     "metadata": {},
     "output_type": "execute_result"
    }
   ],
   "source": [
    "column_data = [\n",
    "    (sorted_master_patient_set, 'pat_mrn_id'),\n",
    "    (intubation_event, 'intubated'),\n",
    "    (days_to_intubation, 'days_to_intubation'),\n",
    "    (death_event, 'died'),\n",
    "    (days_to_death, 'days_to_death'),\n",
    "    (ages, 'age'),\n",
    "    (sex, 'sex'),\n",
    "    (macula, 'macula'),\n",
    "    (complement, 'compl_def'),\n",
    "    (coagulation, 'coagulation'),\n",
    "    (hypertension, 'hypertension'),\n",
    "    (t2dm, 'type2_diabetes'),\n",
    "    (obesity, 'obesity'),\n",
    "    (cad, 'cad'),\n",
    "    (refctrl, 'refctrl'),\n",
    "    (race_black, 'race_black'),\n",
    "    (race_asian, 'race_asian'),\n",
    "    (race_white, 'race_white'),\n",
    "    (race_other, 'race_other'),\n",
    "    (race_declined, 'race_declined'),\n",
    "    (eth_hispanic, 'eth_hispanic'),\n",
    "    (eth_nonhispanic, 'eth_nonhispanic'),\n",
    "    (eth_declinedother, 'eth_declinedother')\n",
    "]\n",
    "\n",
    "data_vectors, data_names = zip(*column_data)\n",
    "\n",
    "df = pd.DataFrame(list(zip(*data_vectors)), columns = data_names)\n",
    "\n",
    "df.describe()"
   ]
  },
  {
   "cell_type": "code",
   "execution_count": 69,
   "metadata": {},
   "outputs": [],
   "source": [
    "df.to_pickle('data/pandas_df_%s_%s.pkl' % (_version, date_retrieved))"
   ]
  },
  {
   "cell_type": "code",
   "execution_count": null,
   "metadata": {},
   "outputs": [],
   "source": []
  },
  {
   "cell_type": "code",
   "execution_count": null,
   "metadata": {},
   "outputs": [],
   "source": []
  }
 ],
 "metadata": {
  "kernelspec": {
   "display_name": "Python 3",
   "language": "python",
   "name": "python3"
  },
  "language_info": {
   "codemirror_mode": {
    "name": "ipython",
    "version": 3
   },
   "file_extension": ".py",
   "mimetype": "text/x-python",
   "name": "python",
   "nbconvert_exporter": "python",
   "pygments_lexer": "ipython3",
   "version": "3.7.6"
  }
 },
 "nbformat": 4,
 "nbformat_minor": 4
}
