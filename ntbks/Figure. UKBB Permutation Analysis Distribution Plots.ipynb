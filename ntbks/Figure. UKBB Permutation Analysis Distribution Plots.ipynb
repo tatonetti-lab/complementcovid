{
 "cells": [
  {
   "cell_type": "code",
   "execution_count": 1,
   "metadata": {},
   "outputs": [],
   "source": [
    "import os\n",
    "import sys\n",
    "import csv\n",
    "import json\n",
    "\n",
    "import numpy as np\n",
    "import pandas as pd\n",
    "import scipy.stats as stats\n",
    "\n",
    "import seaborn as sns\n",
    "import matplotlib.pyplot as plt\n",
    "\n",
    "from tqdm import tqdm\n",
    "from collections import defaultdict\n",
    "\n",
    "%matplotlib inline"
   ]
  },
  {
   "cell_type": "code",
   "execution_count": 2,
   "metadata": {},
   "outputs": [],
   "source": [
    "fh = open('results/null_distirbution_fit_results_minmaf0.010_0to80kb.json')\n",
    "dist2run2results = json.load(fh)\n",
    "fh.close()"
   ]
  },
  {
   "cell_type": "code",
   "execution_count": 3,
   "metadata": {},
   "outputs": [],
   "source": [
    "# dist2run2results['chi-squared']['gs2_apr_snp'][:5]"
   ]
  },
  {
   "cell_type": "code",
   "execution_count": 4,
   "metadata": {},
   "outputs": [],
   "source": [
    "alphas = [0.05, 0.01, 0.0075, 0.005, 0.0025, 0.001, 0.0005, 0.0001, 5e-05]\n",
    "distances = [0, 10000, 20000, 40000, 60000, 80000]"
   ]
  },
  {
   "cell_type": "code",
   "execution_count": null,
   "metadata": {
    "scrolled": false
   },
   "outputs": [],
   "source": [
    "for dist_name in dist2run2results.keys():\n",
    "    \n",
    "    for samp_code in dist2run2results[dist_name].keys():\n",
    "        plt.figure(figsize=(8,10))\n",
    "\n",
    "        for run in dist2run2results[dist_name][samp_code]:\n",
    "\n",
    "            if not run['distance'] in distances:\n",
    "                continue\n",
    "\n",
    "            if not run['alpha'] in alphas:\n",
    "                continue\n",
    "\n",
    "            idx = alphas.index(run['alpha'])\n",
    "            jdx = distances.index(run['distance'])\n",
    "\n",
    "            plt.subplot(len(alphas), len(distances), len(distances)*idx + jdx + 1)\n",
    "\n",
    "            x = range(len(run['actual_counts']))\n",
    "            bar_color = 'k' if run['chi_pvalue'] >= 0.05 else 'grey'\n",
    "            plt.bar(x, run['actual_counts'], color=bar_color)\n",
    "            plt.plot(x, run['expected_counts'], 'r.-')\n",
    "            plt.xticks([])\n",
    "            plt.yticks([])\n",
    "\n",
    "            if jdx == 0:\n",
    "                plt.ylabel(r'$\\alpha = %s$' % run['alpha'])\n",
    "\n",
    "            if idx == 0:\n",
    "                plt.title(r'$d = %s$' % run['distance'])\n",
    "\n",
    "            sns.despine()\n",
    "\n",
    "        plt.suptitle(\"%s - %s\" % (dist_name, samp_code), fontsize=14);\n",
    "        plt.savefig(\"figures/r1/permutation-analysis/%s_%s_0to80kb.pdf\" % (dist_name, samp_code))"
   ]
  },
  {
   "cell_type": "code",
   "execution_count": null,
   "metadata": {},
   "outputs": [],
   "source": []
  }
 ],
 "metadata": {
  "kernelspec": {
   "display_name": "Python 3",
   "language": "python",
   "name": "python3"
  },
  "language_info": {
   "codemirror_mode": {
    "name": "ipython",
    "version": 3
   },
   "file_extension": ".py",
   "mimetype": "text/x-python",
   "name": "python",
   "nbconvert_exporter": "python",
   "pygments_lexer": "ipython3",
   "version": "3.7.6"
  }
 },
 "nbformat": 4,
 "nbformat_minor": 4
}
