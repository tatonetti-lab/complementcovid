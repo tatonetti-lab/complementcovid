{
 "cells": [
  {
   "cell_type": "code",
   "execution_count": 186,
   "metadata": {},
   "outputs": [],
   "source": [
    "import os\n",
    "import sys\n",
    "import csv\n",
    "\n",
    "import numpy as np\n",
    "import pandas as pd\n",
    "import scipy.stats as stats\n",
    "\n",
    "import seaborn as sns\n",
    "import matplotlib.pyplot as plt\n",
    "\n",
    "from collections import defaultdict\n",
    "\n",
    "%matplotlib inline"
   ]
  },
  {
   "cell_type": "code",
   "execution_count": 187,
   "metadata": {},
   "outputs": [],
   "source": [
    "from scipy.optimize import curve_fit\n",
    "from scipy.special import factorial\n",
    "from scipy.stats import poisson"
   ]
  },
  {
   "cell_type": "code",
   "execution_count": 188,
   "metadata": {},
   "outputs": [],
   "source": [
    "# rand_counts_file = 'data/random_sig_counts.txt'\n",
    "rand_counts_file = 'data/gene_random_sig_counts.txt'"
   ]
  },
  {
   "cell_type": "code",
   "execution_count": 189,
   "metadata": {},
   "outputs": [],
   "source": [
    "def empirical_p(li, v):\n",
    "    return len([i for i in li if i>= v])/float(len(li))"
   ]
  },
  {
   "cell_type": "code",
   "execution_count": 190,
   "metadata": {},
   "outputs": [
    {
     "data": {
      "text/plain": [
       "defaultdict(int,\n",
       "            {'3': 8,\n",
       "             '4': 3,\n",
       "             '5': 3,\n",
       "             '9': 2,\n",
       "             '1': 13,\n",
       "             '0': 9,\n",
       "             '2': 9,\n",
       "             '6': 1,\n",
       "             '7': 2})"
      ]
     },
     "execution_count": 190,
     "metadata": {},
     "output_type": "execute_result"
    }
   ],
   "source": [
    "reader = csv.reader(open(rand_counts_file), delimiter='\\t')\n",
    "header = next(reader)\n",
    "\n",
    "sigcounts = defaultdict(int)\n",
    "sigcs = list()\n",
    "\n",
    "for sample_id, nsnps, sigcount in reader:\n",
    "    sigcounts[sigcount] += 1\n",
    "    sigcs.append(int(sigcount))\n",
    "\n",
    "sigcounts"
   ]
  },
  {
   "cell_type": "code",
   "execution_count": 191,
   "metadata": {},
   "outputs": [],
   "source": [
    "# x, h = list(zip(*[(c, sigcounts[c]) for c in sorted(sigcounts)]))\n",
    "\n",
    "# sns.set(style='ticks', font_scale=1.2)\n",
    "# plt.figure(figsize=(4,2))\n",
    "\n",
    "# plt.bar(x, h, color='k')\n",
    "# plt.xlim(-1,11)\n",
    "# plt.plot([10, 10], [0, 50], 'r--')\n",
    "# plt.plot([1, 1], [0, 50], 'c--')\n",
    "# plt.plot([4, 4], [0, 50], 'b--')\n",
    "\n",
    "# plt.legend(['Hospitalized', 'Negative', 'Positive', 'Random'], bbox_to_anchor=(1.05, 1), loc=2, borderaxespad=0)\n",
    "\n",
    "# plt.ylim(0,29)\n",
    "\n",
    "# plt.xticks(range(0,11), range(0,11))\n",
    "# plt.xlabel('Num of Study-Wide Significant SNPs')\n",
    "# plt.ylabel('Count')\n",
    "\n",
    "# sns.despine()"
   ]
  },
  {
   "cell_type": "code",
   "execution_count": 192,
   "metadata": {},
   "outputs": [
    {
     "name": "stdout",
     "output_type": "stream",
     "text": [
      "[1.81687859]\n"
     ]
    },
    {
     "data": {
      "image/png": "[encoded data removed]",
      "text/plain": [
       "<Figure size 576x216 with 1 Axes>"
      ]
     },
     "metadata": {},
     "output_type": "display_data"
    }
   ],
   "source": [
    "sns.set(style='ticks', font_scale=1.2)\n",
    "plt.figure(figsize=(8,3))\n",
    "\n",
    "# the bins should be of integer width, because poisson is an integer distribution\n",
    "bins = np.arange(11) - 0.5\n",
    "entries, bin_edges, patches = plt.hist(sigcs, bins=bins, density=True, label='Random', color='k')\n",
    "\n",
    "# calculate bin centres\n",
    "bin_middles = 0.5 * (bin_edges[1:] + bin_edges[:-1])\n",
    "\n",
    "\n",
    "def fit_function(k, lamb):\n",
    "    '''poisson function, parameter lamb is the fit parameter'''\n",
    "    return poisson.pmf(k, lamb)\n",
    "\n",
    "\n",
    "# fit with curve_fit\n",
    "parameters, cov_matrix = curve_fit(fit_function, bin_middles, entries)\n",
    "print(parameters)\n",
    "\n",
    "# plot poisson-deviation with fitted parameter\n",
    "x_plot = np.arange(0, 11)\n",
    "\n",
    "\n",
    "plt.plot(\n",
    "    x_plot,\n",
    "    fit_function(x_plot, *parameters),\n",
    "    marker='o', linestyle='',\n",
    "    color='r',\n",
    "    label='Poisson Fit',\n",
    ")\n",
    "\n",
    "plt.plot([10, 10], [0, 1], 'r--', label='Hospitalized (p=%.2e)' % (1-poisson.cdf(10, parameters[0])))\n",
    "plt.plot([4, 4], [0, 1], 'b--', label='Positive (p=%.2e)' % (1-poisson.cdf(4, parameters[0])))\n",
    "plt.plot([1, 1], [0, 1], 'c--', label='Negative (p=%.2e)' % (1-poisson.cdf(1, parameters[0])))\n",
    "\n",
    "plt.ylim(0,0.4)\n",
    "plt.xticks(range(0,12), range(0,12))\n",
    "\n",
    "plt.xlabel('Num of Study-Wide Significant SNPs')\n",
    "plt.ylabel('Frequency')\n",
    "\n",
    "\n",
    "#plt.legend(['Hospitalized', 'Negative', 'Positive', 'Random'], bbox_to_anchor=(1.05, 1), loc=2, borderaxespad=0)\n",
    "plt.legend(bbox_to_anchor=(1.05, 1), loc=2, borderaxespad=0)\n",
    "sns.despine()\n",
    "\n",
    "plt.tight_layout()\n",
    "plt.savefig('figures/ukbb_empirical_hits_analysis.pdf')"
   ]
  },
  {
   "cell_type": "code",
   "execution_count": 193,
   "metadata": {},
   "outputs": [
    {
     "data": {
      "text/plain": [
       "(0.82, 0.22, 0.0)"
      ]
     },
     "execution_count": 193,
     "metadata": {},
     "output_type": "execute_result"
    }
   ],
   "source": [
    "# For comparison, here are what the \"empirical p-values\" are\n",
    "empirical_p(sigcs, 1), empirical_p(sigcs, 4), empirical_p(sigcs, 10)"
   ]
  },
  {
   "cell_type": "code",
   "execution_count": 194,
   "metadata": {},
   "outputs": [
    {
     "data": {
      "text/plain": [
       "([9, 13, 9, 8, 3, 3, 1, 2, 2], [0, 1, 2, 3, 4, 5, 6, 7, 9])"
      ]
     },
     "execution_count": 194,
     "metadata": {},
     "output_type": "execute_result"
    }
   ],
   "source": [
    "[sigcounts[c] for c in sorted(sigcounts)], list(map(int,sorted(sigcounts)))"
   ]
  },
  {
   "cell_type": "code",
   "execution_count": 215,
   "metadata": {},
   "outputs": [
    {
     "data": {
      "text/plain": [
       "Power_divergenceResult(statistic=862.7823067832196, pvalue=6.007429303056856e-181)"
      ]
     },
     "execution_count": 215,
     "metadata": {},
     "output_type": "execute_result"
    }
   ],
   "source": [
    "\n",
    "stats.chisquare(\n",
    "    [sigcounts[c] for c in sorted(sigcounts)], \n",
    "    len(sigcs)*fit_function(list(map(int,sorted(sigcounts))), *(parameters))\n",
    ")"
   ]
  },
  {
   "cell_type": "code",
   "execution_count": null,
   "metadata": {},
   "outputs": [],
   "source": []
  },
  {
   "cell_type": "code",
   "execution_count": null,
   "metadata": {},
   "outputs": [],
   "source": []
  }
 ],
 "metadata": {
  "kernelspec": {
   "display_name": "Python 3",
   "language": "python",
   "name": "python3"
  },
  "language_info": {
   "codemirror_mode": {
    "name": "ipython",
    "version": 3
   },
   "file_extension": ".py",
   "mimetype": "text/x-python",
   "name": "python",
   "nbconvert_exporter": "python",
   "pygments_lexer": "ipython3",
   "version": "3.7.6"
  }
 },
 "nbformat": 4,
 "nbformat_minor": 4
}
