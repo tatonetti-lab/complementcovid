{
 "cells": [
  {
   "cell_type": "code",
   "execution_count": 1,
   "metadata": {},
   "outputs": [],
   "source": [
    "import os\n",
    "import sys\n",
    "import csv\n",
    "import json\n",
    "import moment\n",
    "import pymysql\n",
    "import datetime\n",
    "\n",
    "import numpy as np\n",
    "import scipy as sp\n",
    "import scipy.stats as stats\n",
    "import pandas as pd\n",
    "\n",
    "import seaborn as sns\n",
    "import matplotlib.pyplot as plt\n",
    "\n",
    "from collections import defaultdict\n",
    "\n",
    "%matplotlib inline"
   ]
  },
  {
   "cell_type": "markdown",
   "metadata": {},
   "source": [
    "# Create a file that can make a pretty Table 1, Section B for the manuscript\n",
    "\n",
    "## Groups of patients (columns)\n",
    "\n",
    "- All\n",
    "- COVID+ \n",
    "- COVID- \n",
    "- Macula \n",
    "- Complement deficiency\n",
    "- Coaglation\n",
    "- Hypertension\n",
    "- Diabetes\n",
    "- Obesity\n",
    "- CAD\n",
    "\n",
    "## Features (rows)\n",
    "\n",
    "Statistical Results\n",
    "- HR intubation univariate\n",
    "- HR intubation age/sex corrected\n",
    "- HR death univariate\n",
    "- HR death age/sex corrected\n"
   ]
  },
  {
   "cell_type": "code",
   "execution_count": 2,
   "metadata": {},
   "outputs": [
    {
     "data": {
      "text/plain": [
       "('v4', '2020-04-25')"
      ]
     },
     "execution_count": 2,
     "metadata": {},
     "output_type": "execute_result"
    }
   ],
   "source": [
    "# intub_results_file = 'results/coxph_intubated_v2_2020-04-25.json'\n",
    "# death_results_file = 'results/coxph_died_v2_2020-04-25.json'\n",
    "\n",
    "# intub_results_file = 'results/coxph_intubated_v3_2020-04-25.json'\n",
    "# death_results_file = 'results/coxph_died_v3_2020-04-25.json'\n",
    "\n",
    "# intub_results_file = 'results/coxph_intubated_v3-1_2020-04-25.json'\n",
    "# death_results_file = 'results/coxph_died_v3-1_2020-04-25.json'\n",
    "\n",
    "intub_results_file = 'results/coxph_intubated_v4_2020-04-25.json'\n",
    "death_results_file = 'results/coxph_died_v4_2020-04-25.json'\n",
    "\n",
    "_version, date_retrieved = intub_results_file.split('_v')[1].split('.')[0].split('_')\n",
    "_version = 'v' + _version\n",
    "_version, date_retrieved"
   ]
  },
  {
   "cell_type": "markdown",
   "metadata": {},
   "source": [
    "## Load the statistical results that we want to also show in the table"
   ]
  },
  {
   "cell_type": "code",
   "execution_count": 3,
   "metadata": {},
   "outputs": [],
   "source": [
    "coxph_results = {\n",
    "    'intub': {\n",
    "        'name': 'Intub HR (95% CI)',\n",
    "        'results': json.loads(open(intub_results_file).read())\n",
    "    },\n",
    "    'death': {\n",
    "        'name': 'Death HR (95% CI)',\n",
    "        'results': json.loads(open(death_results_file).read())\n",
    "    }\n",
    "}"
   ]
  },
  {
   "cell_type": "markdown",
   "metadata": {},
   "source": [
    "## This is the main function that will build the rows for a given dataset\n",
    "\n",
    "Notes:\n",
    "- `propci` is a function to copute the 95% confidence interval of a proporation\n",
    "- `build_features` is a function that generates a dictionary of row values"
   ]
  },
  {
   "cell_type": "code",
   "execution_count": 13,
   "metadata": {},
   "outputs": [
    {
     "name": "stdout",
     "output_type": "stream",
     "text": [
      "{\n",
      "  \"intub_univariate\": {\n",
      "    \"name\": \"Intub HR (95% CI) / Univar.\",\n",
      "    \"value\": \"2.2 (1.3-3.7)**\"\n",
      "  },\n",
      "  \"intub_age_sex_corrected\": {\n",
      "    \"name\": \"Intub HR (95% CI) / Age & Sex Corr.\",\n",
      "    \"value\": \"1.8 (1.1-3.1)*\"\n",
      "  },\n",
      "  \"death_univariate\": {\n",
      "    \"name\": \"Death HR (95% CI) / Univar.\",\n",
      "    \"value\": \"3.0 (2.0-4.6)\\u2020\"\n",
      "  },\n",
      "  \"death_age_sex_corrected\": {\n",
      "    \"name\": \"Death HR (95% CI) / Age & Sex Corr.\",\n",
      "    \"value\": \"1.5 (1.0-2.3)*\"\n",
      "  }\n",
      "}\n"
     ]
    }
   ],
   "source": [
    "def propci(p, n):\n",
    "    s = np.sqrt((p*(1-p)/n))\n",
    "    return (p, p-1.96*s, p+1.96*s)\n",
    "\n",
    "def build_results(all_results, group):\n",
    "    \n",
    "    features = {}\n",
    "    \n",
    "    for outcome in all_results.keys():\n",
    "        \n",
    "        stat_results = all_results[outcome]['results'][group]\n",
    "        \n",
    "        for name, model in zip(('Univar.', 'Age & Sex Corr.'), ('univariate', 'age_sex_corrected')):\n",
    "            hr = stat_results[model]['exp(coef)']\n",
    "            hrlo = stat_results[model]['exp(coef) lower 95%']\n",
    "            hrup = stat_results[model]['exp(coef) upper 95%']\n",
    "            pval = stat_results[model]['p']\n",
    "\n",
    "            pval_str = '†' if pval < 0.001 else '**' if pval < 0.01 else '*' if pval < 0.055 else ''\n",
    "\n",
    "            features[\"%s_%s\" % (outcome, model)] = {\n",
    "                'name': \"%s / %s\" % (all_results[outcome]['name'], name),\n",
    "                'value': \"%.1f (%.1f-%.1f)%s\" % (hr, hrlo, hrup, pval_str)\n",
    "            }\n",
    "    \n",
    "    return features\n",
    "\n",
    "print(json.dumps(build_results(coxph_results, 'macula'), indent=2))\n"
   ]
  },
  {
   "cell_type": "code",
   "execution_count": 17,
   "metadata": {},
   "outputs": [],
   "source": [
    "results_rows = ['intub_univariate', 'intub_age_sex_corrected', 'death_univariate', 'death_age_sex_corrected']\n",
    "\n",
    "table_data = {\n",
    "    'all': {\n",
    "        'name': 'All Patients',\n",
    "        'results': None,\n",
    "    },\n",
    "    'covidpos': {\n",
    "        'name': 'SARS-Cov-2 Positive (C19+)',\n",
    "        'results': None,\n",
    "    },\n",
    "    'intubated': {\n",
    "        'name': 'Intubated and C19+',\n",
    "        'results': None,\n",
    "    },\n",
    "    'death': {\n",
    "        'name': 'Mortality and C19+',\n",
    "        'results': None,\n",
    "    },\n",
    "    'macula': {\n",
    "        'name': 'Macula and C19+',\n",
    "        'results': build_results(coxph_results, 'macula'),\n",
    "    },\n",
    "    'compl_def': {\n",
    "        'name': 'Complement Def. and C19+',\n",
    "        'results': build_results(coxph_results, 'compl_def'),\n",
    "    },\n",
    "    'coagulation': {\n",
    "        'name': 'Coagulation and C19+',\n",
    "        'results': build_results(coxph_results, 'coagulation'),\n",
    "    },\n",
    "    'hypertension': {\n",
    "        'name': 'Hypertension and C19+',\n",
    "        'results': build_results(coxph_results, 'hypertension'),\n",
    "    },\n",
    "    'type2_diabetes': {\n",
    "        'name': 'Type 2 Diabetes and C19+',\n",
    "        'results': build_results(coxph_results, 'type2_diabetes'),\n",
    "    },\n",
    "    'obesity': {\n",
    "        'name': 'Obesity and C19+',\n",
    "        'results': build_results(coxph_results, 'obesity'),\n",
    "    },\n",
    "    'cad': {\n",
    "        'name': 'Coronary Artery Disease and C19+',\n",
    "        'results': build_results(coxph_results, 'cad'),\n",
    "    },\n",
    "    'refctrl': {\n",
    "        'name': 'Cough (Reference) and C19+',\n",
    "        'results': build_results(coxph_results, 'refctrl')\n",
    "    },\n",
    "    'age_over_65': {\n",
    "        'name': 'Age Over 65 and C19+',\n",
    "        'results': build_results(coxph_results, 'age_over_65')\n",
    "    },\n",
    "    'smoker': {\n",
    "        'name': 'Smoker and C19+',\n",
    "        'results': build_results(coxph_results, 'smoker')\n",
    "    }\n",
    "}"
   ]
  },
  {
   "cell_type": "code",
   "execution_count": 18,
   "metadata": {},
   "outputs": [
    {
     "name": "stdout",
     "output_type": "stream",
     "text": [
      "refctrl intub_univariate 1.5 (1.1-1.9)**\n",
      "refctrl intub_age_sex_corrected 1.4 (1.1-1.8)**\n",
      "refctrl death_univariate 1.3 (1.1-1.7)*\n",
      "refctrl death_age_sex_corrected 1.3 (1.1-1.6)*\n"
     ]
    }
   ],
   "source": [
    "groups = ['all', 'covidpos', 'intubated', 'death', 'macula', 'compl_def', 'coagulation', 'hypertension', 'type2_diabetes', 'obesity', 'cad', 'age_over_65', 'refctrl', 'smoker']\n",
    "\n",
    "outfh = open('results/table1_sectionB_%s_%s.csv' % (_version, date_retrieved), 'w')\n",
    "writer = csv.writer(outfh)\n",
    "\n",
    "row_data = list()\n",
    "row_data.append('Variable')\n",
    "for group in groups:\n",
    "    row_data.append(table_data[group]['name'])\n",
    "\n",
    "writer.writerow(row_data)\n",
    "\n",
    "# The results rows\n",
    "for row in (results_rows):\n",
    "    \n",
    "    row_name = None\n",
    "    row_data = list()\n",
    "    \n",
    "    for group in groups:\n",
    "        \n",
    "        if table_data[group]['results'] is None:\n",
    "            row_data.append('')\n",
    "            continue\n",
    "        \n",
    "        if row_name is None:\n",
    "            row_name = table_data[group]['results'][row]['name']\n",
    "        \n",
    "        if group == 'refctrl':\n",
    "            print(group, row, table_data[group]['results'][row]['value'])\n",
    "        row_data.append(table_data[group]['results'][row]['value'])\n",
    "    \n",
    "    writer.writerow([row_name] + row_data)\n",
    "    #print(row_data)\n",
    "\n",
    "outfh.close()"
   ]
  },
  {
   "cell_type": "code",
   "execution_count": 19,
   "metadata": {},
   "outputs": [
    {
     "data": {
      "text/plain": [
       "{'name': 'Macula and C19+',\n",
       " 'results': {'intub_univariate': {'name': 'Intub HR (95% CI) / Univar.',\n",
       "   'value': '2.2 (1.3-3.7)**'},\n",
       "  'intub_age_sex_corrected': {'name': 'Intub HR (95% CI) / Age & Sex Corr.',\n",
       "   'value': '1.8 (1.1-3.1)*'},\n",
       "  'death_univariate': {'name': 'Death HR (95% CI) / Univar.',\n",
       "   'value': '3.0 (2.0-4.6)†'},\n",
       "  'death_age_sex_corrected': {'name': 'Death HR (95% CI) / Age & Sex Corr.',\n",
       "   'value': '1.5 (1.0-2.3)*'}}}"
      ]
     },
     "execution_count": 19,
     "metadata": {},
     "output_type": "execute_result"
    }
   ],
   "source": [
    "table_data['macula']"
   ]
  },
  {
   "cell_type": "code",
   "execution_count": null,
   "metadata": {},
   "outputs": [],
   "source": []
  }
 ],
 "metadata": {
  "kernelspec": {
   "display_name": "Python 3",
   "language": "python",
   "name": "python3"
  },
  "language_info": {
   "codemirror_mode": {
    "name": "ipython",
    "version": 3
   },
   "file_extension": ".py",
   "mimetype": "text/x-python",
   "name": "python",
   "nbconvert_exporter": "python",
   "pygments_lexer": "ipython3",
   "version": "3.7.6"
  }
 },
 "nbformat": 4,
 "nbformat_minor": 4
}
