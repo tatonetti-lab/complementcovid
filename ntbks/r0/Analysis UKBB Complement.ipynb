{
 "cells": [
  {
   "cell_type": "code",
   "execution_count": 27,
   "metadata": {},
   "outputs": [],
   "source": [
    "import os\n",
    "import sys\n",
    "import csv\n",
    "\n",
    "import numpy as np\n",
    "import pandas as pd\n",
    "import scipy.stats as stats\n",
    "\n",
    "import seaborn as sns\n",
    "import matplotlib.pyplot as plt\n",
    "\n",
    "from collections import defaultdict\n",
    "\n",
    "%matplotlib inline"
   ]
  },
  {
   "cell_type": "code",
   "execution_count": 28,
   "metadata": {},
   "outputs": [],
   "source": [
    "ukbb_data_file = 'data/04252020_ukb_snp_table_1.csv'"
   ]
  },
  {
   "cell_type": "code",
   "execution_count": 29,
   "metadata": {},
   "outputs": [],
   "source": [
    "fh = open(ukbb_data_file)\n",
    "reader = csv.reader(fh)\n",
    "header = next(reader)\n",
    "\n",
    "ukbb_data = list()\n",
    "\n",
    "for row in reader:\n",
    "    ukbb_data.append(dict(zip(header, row[:2] + list(map(int,row[2:])))))"
   ]
  },
  {
   "cell_type": "code",
   "execution_count": 30,
   "metadata": {},
   "outputs": [],
   "source": [
    "\n",
    "# construct an rsid->gene mapping\n",
    "rsid2gene = defaultdict(set)\n",
    "genes = set()\n",
    "\n",
    "snp_allele_counts = dict()\n",
    "\n",
    "for row in ukbb_data:\n",
    "    rsid2gene[row['rsid']].add(row['gene'])\n",
    "    snp_allele_counts[row['rsid']] = row\n",
    "    genes.add(row['gene'])"
   ]
  },
  {
   "cell_type": "code",
   "execution_count": 32,
   "metadata": {},
   "outputs": [],
   "source": [
    "study = 'pos_severe'\n",
    "# study = 'pos'\n",
    "# study = 'neg'\n",
    "\n",
    "plink_results_file = 'data/%s.PHENO1.glm.logistic.adjusted' % study\n",
    "plink_details_file = 'data/%s.PHENO1.glm.logistic' % study"
   ]
  },
  {
   "cell_type": "code",
   "execution_count": 33,
   "metadata": {},
   "outputs": [
    {
     "data": {
      "text/plain": [
       "(2097,\n",
       " ('rs61775589',\n",
       "  {'#CHROM': '1',\n",
       "   'POS': '11028301',\n",
       "   'ID': 'rs61775589',\n",
       "   'REF': 'C',\n",
       "   'ALT': 'T',\n",
       "   'A1': 'C',\n",
       "   'TEST': 'ADD',\n",
       "   'OBS_CT': '337147',\n",
       "   'OR': '1.09774',\n",
       "   'LOG(OR)_SE': '0.151293',\n",
       "   'Z_STAT': '0.616386',\n",
       "   'P': '0.53764'}))"
      ]
     },
     "execution_count": 33,
     "metadata": {},
     "output_type": "execute_result"
    }
   ],
   "source": [
    "fh = open(plink_details_file)\n",
    "reader = csv.reader(fh, delimiter='\\t')\n",
    "header = next(reader)\n",
    "\n",
    "plink_details = dict()\n",
    "for row in reader:\n",
    "    row = dict(zip(header, row))\n",
    "    if row['TEST'] == 'ADD':\n",
    "        plink_details[row['ID']] = row\n",
    "\n",
    "len(plink_details), list(plink_details.items())[0]"
   ]
  },
  {
   "cell_type": "code",
   "execution_count": 34,
   "metadata": {},
   "outputs": [
    {
     "name": "stdout",
     "output_type": "stream",
     "text": [
      "['#CHROM', 'ID', 'A1', 'UNADJ', 'GC', 'BONF', 'HOLM', 'SIDAK_SS', 'SIDAK_SD', 'FDR_BH', 'FDR_BY']\n"
     ]
    },
    {
     "data": {
      "text/plain": [
       "2097"
      ]
     },
     "execution_count": 34,
     "metadata": {},
     "output_type": "execute_result"
    }
   ],
   "source": [
    "fh = open(plink_results_file)\n",
    "reader = csv.reader(fh, delimiter='\\t')\n",
    "\n",
    "header = next(reader)\n",
    "print(header)\n",
    "\n",
    "plink_results = list()\n",
    "\n",
    "for row in reader:\n",
    "    chrom = row[0]\n",
    "    rsid = row[1]\n",
    "    allele = row[2]\n",
    "    unadjusted = float(row[3])\n",
    "    fdrbh = float(row[9])\n",
    "    \n",
    "    plink_results.append([chrom, rsid, allele, unadjusted, fdrbh])\n",
    "\n",
    "len(plink_results)"
   ]
  },
  {
   "cell_type": "markdown",
   "metadata": {},
   "source": [
    "## Pull out and build a table from the study-wide significant hits"
   ]
  },
  {
   "cell_type": "code",
   "execution_count": 36,
   "metadata": {},
   "outputs": [
    {
     "name": "stdout",
     "output_type": "stream",
     "text": [
      "rs45574833 1 207300070 A G 2.64776 0.222419 4.37783 A 1.19866e-05 0.00455492 C4BPB,C4BPA\n",
      "rs61821114 1 207610967 T C 2.39526 0.212492 4.1107 T 3.94457e-05 0.00749468 CR1,CR2\n",
      "rs61821041 1 207352581 G A 2.3377 0.233369 3.63874 G 0.00027397 0.032234 C4BPA\n",
      "rs12064775 1 196600605 G A 2.13153 0.212588 3.56012 G 0.000370689 0.032234 CFH\n",
      "rs72729504 1 94940206 T C 1.93339 0.18705 3.52459 T 0.000424132 0.032234 F3\n",
      "rs117284601 11 57425228 A G 1.80043 0.151694 3.87638 A 0.000106022 0.00742154 SERPING1\n",
      "rs9913923 17 1703982 T C 1.48131 0.113865 3.45078 T 0.000558963 0.030184 SERPINF2\n",
      "rs1047286 19 6713262 A G 0.656802 0.108173 -3.88613 A 0.000101855 0.0228156 C3\n",
      "rs2230203 19 6710782 T G 0.660121 0.113613 -3.65567 T 0.000256514 0.0287296 C3\n",
      "rs2230199 19 6718387 C G 0.684134 0.107067 -3.54547 C 0.000391917 0.0292632 C3\n"
     ]
    }
   ],
   "source": [
    "gt_types = [\"%s_ref/ref_count\", \"%s_ref/alt_count\", \"%s_alt/alt_count\"]\n",
    "\n",
    "genotype_counts_keys = [t % 'all' for t in gt_types] + [t % study for t in gt_types]\n",
    "\n",
    "ofh = open('results/table3_ukbb_results_%s.csv' % study, 'w')\n",
    "writer = csv.writer(ofh)\n",
    "\n",
    "sig_chroms = set()\n",
    "\n",
    "results_header = [\"rsid\", \"chrom\", \"pos\", \"ref\", \"alt\", \"OR\", \"log(OR)se\", \"z_stat\", \"allele\", \"unadjusted\", \"FDR_BH\", \"genes\"] + genotype_counts_keys \n",
    "writer.writerow(results_header)\n",
    "least_sig_sig = None\n",
    "\n",
    "marginally_significant_table = list()\n",
    "\n",
    "for chrom, rsid, allele, unadjusted, fdrbh in plink_results:\n",
    "    details = plink_details[rsid]\n",
    "    genotype_counts = [snp_allele_counts[rsid][k] for k in genotype_counts_keys]\n",
    "        \n",
    "    if fdrbh < 0.05:\n",
    "        if least_sig_sig is None or unadjusted > least_sig_sig:\n",
    "            least_sig_sig = unadjusted\n",
    "        \n",
    "        writer.writerow([rsid, chrom, details['POS'], details['REF'], details['ALT'], details['OR'], details['LOG(OR)_SE'], details['Z_STAT'], allele, unadjusted, fdrbh, ','.join(rsid2gene[rsid])] + genotype_counts)\n",
    "        print(rsid, chrom, details['POS'], details['REF'], details['ALT'], details['OR'], details['LOG(OR)_SE'], details['Z_STAT'], allele, unadjusted, fdrbh, ','.join(rsid2gene[rsid]))\n",
    "        sig_chroms.add(int(chrom))\n",
    "    \n",
    "    if unadjusted < 1e-2:\n",
    "        marginally_significant_table.append(\n",
    "            [rsid, chrom, details['POS'], details['REF'], details['ALT'], details['OR'], details['LOG(OR)_SE'], details['Z_STAT'], allele, unadjusted, fdrbh, ','.join(rsid2gene[rsid])] + genotype_counts            \n",
    "        )\n",
    "        \n",
    "\n",
    "ofh.close()\n",
    "\n",
    "ofh = open('results/table4_ukbb_results_marginally_sig_%s.csv' % study, 'w')\n",
    "writer = csv.writer(ofh)\n",
    "writer.writerow(results_header)\n",
    "writer.writerows(marginally_significant_table)\n",
    "ofh.close()"
   ]
  },
  {
   "cell_type": "markdown",
   "metadata": {},
   "source": [
    "## Build a mini-Manhattan plot"
   ]
  },
  {
   "cell_type": "code",
   "execution_count": 39,
   "metadata": {},
   "outputs": [
    {
     "data": {
      "image/png": "[encoded data removed]",
      "text/plain": [
       "<Figure size 720x288 with 1 Axes>"
      ]
     },
     "metadata": {},
     "output_type": "display_data"
    }
   ],
   "source": [
    "sns.set(style='ticks', font_scale=1.2)\n",
    "plt.figure(figsize=(10,4))\n",
    "\n",
    "neglog10 = lambda p: -1*np.log10(p)\n",
    "\n",
    "chromosomes = sorted(set(map(int,list(zip(*plink_results))[0])))\n",
    "\n",
    "start_pos = 0\n",
    "alternate = 0\n",
    "tick_positions = list()\n",
    "tick_labels = list()\n",
    "\n",
    "gene_markers = list()\n",
    "sig_genes = set()\n",
    "\n",
    "for this_chrom in chromosomes:\n",
    "    \n",
    "    unadjusted_pvalues = list()\n",
    "    \n",
    "    for chrom, rsid, allele, unadjusted, fdrbh in sorted(plink_results):\n",
    "        if int(chrom) != this_chrom:\n",
    "            continue\n",
    "        \n",
    "        unadjusted_pvalues.append(neglog10(unadjusted))\n",
    "        \n",
    "        if fdrbh < 0.05:\n",
    "            for gene in rsid2gene[rsid]:\n",
    "                gene_markers.append((gene, len(unadjusted_pvalues)+start_pos, unadjusted, alternate))\n",
    "                sig_genes.add(gene)\n",
    "    \n",
    "    fmt = 'k.'\n",
    "    if alternate % 2 == 0:\n",
    "        fmt = 'r.'\n",
    "    \n",
    "    plt.plot(range(start_pos, start_pos+len(unadjusted_pvalues)) ,unadjusted_pvalues, fmt)\n",
    "\n",
    "    if this_chrom in sig_chroms:\n",
    "        tick_positions.append(len(unadjusted_pvalues)/2+start_pos)\n",
    "        tick_labels.append(this_chrom)\n",
    "    \n",
    "    start_pos += len(unadjusted_pvalues)\n",
    "    alternate += 1\n",
    "    \n",
    "# plot the significant genes\n",
    "markerstyles = ['o', 's', 'v', '*', 'P', 'D', 'x', 'h', '|']\n",
    "legend_names = list()\n",
    "for i, gene in enumerate(sig_genes):\n",
    "    _, xpos, unadj, alternate = zip(*[(g,x,p,a) for g,x,p,a in gene_markers if g == gene])\n",
    "    \n",
    "    color = 'k'\n",
    "    if alternate[0] % 2 == 0:\n",
    "        color = 'r'\n",
    "#     xpos += np.random.normal(0, 20, 1)\n",
    "    plt.plot(xpos, list(map(neglog10,unadj)), lw=0, color='none', markeredgecolor=color, markersize=8, marker=markerstyles[i], label=gene)\n",
    "    legend_names.append(gene)\n",
    "\n",
    "plt.legend(bbox_to_anchor=(1.05, 1), loc=2, borderaxespad=0)\n",
    "\n",
    "# Add some markers for where the significance threshold is\n",
    "# and customize the tick marks and labels\n",
    "un_alpha = neglog10(0.05)\n",
    "# bh_alpha = neglog10(0.0007)\n",
    "bh_alpha = neglog10(1.1*least_sig_sig)\n",
    "\n",
    "plt.plot([0, len(plink_results)], [un_alpha, un_alpha], 'k--', lw=1)\n",
    "plt.plot([0, len(plink_results)], [bh_alpha, bh_alpha], 'r--', lw=1)\n",
    "plt.xlim(0,len(plink_results))\n",
    "plt.ylim(0)\n",
    "plt.ylabel('-log10(p value)')\n",
    "\n",
    "plt.xticks(tick_positions, tick_labels)\n",
    "plt.xlabel('Chromosome')\n",
    "\n",
    "sns.despine()\n",
    "plt.tight_layout()\n",
    "\n",
    "plt.savefig('figures/ukbb_complwas_%s.pdf' % study)"
   ]
  },
  {
   "cell_type": "code",
   "execution_count": null,
   "metadata": {},
   "outputs": [],
   "source": []
  },
  {
   "cell_type": "code",
   "execution_count": null,
   "metadata": {},
   "outputs": [],
   "source": []
  },
  {
   "cell_type": "code",
   "execution_count": null,
   "metadata": {},
   "outputs": [],
   "source": []
  }
 ],
 "metadata": {
  "kernelspec": {
   "display_name": "Python 3",
   "language": "python",
   "name": "python3"
  },
  "language_info": {
   "codemirror_mode": {
    "name": "ipython",
    "version": 3
   },
   "file_extension": ".py",
   "mimetype": "text/x-python",
   "name": "python",
   "nbconvert_exporter": "python",
   "pygments_lexer": "ipython3",
   "version": "3.7.6"
  }
 },
 "nbformat": 4,
 "nbformat_minor": 4
}
