{
 "cells": [
  {
   "cell_type": "code",
   "execution_count": 1,
   "metadata": {},
   "outputs": [],
   "source": [
    "import os\n",
    "import sys\n",
    "import csv\n",
    "import json\n",
    "import moment\n",
    "import pymysql\n",
    "import datetime\n",
    "\n",
    "import numpy as np\n",
    "import scipy as sp\n",
    "import scipy.stats as stats\n",
    "import pandas as pd\n",
    "\n",
    "import seaborn as sns\n",
    "import matplotlib.pyplot as plt\n",
    "\n",
    "from collections import defaultdict\n",
    "\n",
    "%matplotlib inline"
   ]
  },
  {
   "cell_type": "markdown",
   "metadata": {},
   "source": [
    "# Create a figure of the hazards ratios\n"
   ]
  },
  {
   "cell_type": "code",
   "execution_count": 2,
   "metadata": {},
   "outputs": [
    {
     "data": {
      "text/plain": [
       "('v3-1', '2020-04-25')"
      ]
     },
     "execution_count": 2,
     "metadata": {},
     "output_type": "execute_result"
    }
   ],
   "source": [
    "intub_results_file = 'results/coxph_intubated_v3-1_2020-04-25.json'\n",
    "death_results_file = 'results/coxph_died_v3-1_2020-04-25.json'\n",
    "\n",
    "_version, date_retrieved = intub_results_file.split('_v')[1].split('.')[0].split('_')\n",
    "_version = 'v' + _version\n",
    "_version, date_retrieved"
   ]
  },
  {
   "cell_type": "markdown",
   "metadata": {},
   "source": [
    "## Load the statistical results that we want to also show in the table"
   ]
  },
  {
   "cell_type": "code",
   "execution_count": 3,
   "metadata": {},
   "outputs": [],
   "source": [
    "coxph_results = {\n",
    "    'intub': {\n",
    "        'name': 'Intub HR (95% CI)',\n",
    "        'results': json.loads(open(intub_results_file).read())\n",
    "    },\n",
    "    'death': {\n",
    "        'name': 'Death HR (95% CI)',\n",
    "        'results': json.loads(open(death_results_file).read())\n",
    "    }\n",
    "}"
   ]
  },
  {
   "cell_type": "markdown",
   "metadata": {},
   "source": [
    "## This is the main function that will build the rows for a given dataset\n",
    "\n",
    "Notes:\n",
    "- `propci` is a function to copute the 95% confidence interval of a proporation\n",
    "- `build_features` is a function that generates a dictionary of row values"
   ]
  },
  {
   "cell_type": "code",
   "execution_count": 4,
   "metadata": {},
   "outputs": [
    {
     "name": "stdout",
     "output_type": "stream",
     "text": [
      "{\n",
      "  \"intub\": {\n",
      "    \"univariate\": {\n",
      "      \"model\": \"univariate\",\n",
      "      \"est\": 2.171896511807191,\n",
      "      \"lower\": 0.8955868846094273,\n",
      "      \"upper\": 1.5240204956959778\n",
      "    },\n",
      "    \"age_sex_corrected\": {\n",
      "      \"model\": \"age_sex_corrected\",\n",
      "      \"est\": 1.8482448692923723,\n",
      "      \"lower\": 0.7674614244976117,\n",
      "      \"upper\": 1.3124337229988654\n",
      "    }\n",
      "  },\n",
      "  \"death\": {\n",
      "    \"univariate\": {\n",
      "      \"model\": \"univariate\",\n",
      "      \"est\": 3.351123857554164,\n",
      "      \"lower\": 1.1638747919366197,\n",
      "      \"upper\": 1.783193621510815\n",
      "    },\n",
      "    \"age_sex_corrected\": {\n",
      "      \"model\": \"age_sex_corrected\",\n",
      "      \"est\": 1.65290280178907,\n",
      "      \"lower\": 0.5760062820785616,\n",
      "      \"upper\": 0.884098314062431\n",
      "    }\n",
      "  }\n",
      "}\n"
     ]
    }
   ],
   "source": [
    "def build_results(all_results, group):\n",
    "    \n",
    "    features = defaultdict(dict)\n",
    "    \n",
    "    for outcome in all_results.keys():\n",
    "        \n",
    "        stat_results = all_results[outcome]['results'][group]\n",
    "        \n",
    "        for model in ('univariate', 'age_sex_corrected'):\n",
    "            hr = stat_results[model]['exp(coef)']\n",
    "            hrlo = stat_results[model]['exp(coef) lower 95%']\n",
    "            hrup = stat_results[model]['exp(coef) upper 95%']\n",
    "            \n",
    "            loghr = stat_results[model]['coef']\n",
    "            loghrlo = stat_results[model]['coef lower 95%']\n",
    "            loghrup = stat_results[model]['coef upper 95%']\n",
    "            pval = stat_results[model]['p']\n",
    "\n",
    "            pval_str = '***' if pval < 0.001 else '**' if pval < 0.01 else '*' if pval < 0.05 else ''\n",
    "\n",
    "            features[outcome][model] = {\n",
    "                'model': model,\n",
    "#                 'est': loghr,\n",
    "#                 'lower': loghr-loghrlo,\n",
    "#                 'upper': loghrup-loghr\n",
    "                'est': hr,\n",
    "                'lower': hr-hrlo,\n",
    "                'upper': hrup-hr\n",
    "\n",
    "\n",
    "            }\n",
    "    \n",
    "    return features\n",
    "\n",
    "print(json.dumps(build_results(coxph_results, 'macula'), indent=2))\n"
   ]
  },
  {
   "cell_type": "code",
   "execution_count": 19,
   "metadata": {},
   "outputs": [],
   "source": [
    "table_data = {\n",
    "    'macula': {\n",
    "        'name': 'Macula',\n",
    "        'results': build_results(coxph_results, 'macula'),\n",
    "    },\n",
    "    'compl_def': {\n",
    "        'name': 'CD',\n",
    "        'results': build_results(coxph_results, 'compl_def'),\n",
    "    },\n",
    "    'coagulation': {\n",
    "        'name': 'Coagulation',\n",
    "        'results': build_results(coxph_results, 'coagulation'),\n",
    "    },\n",
    "    'hypertension': {\n",
    "        'name': 'Hypertension',\n",
    "        'results': build_results(coxph_results, 'hypertension'),\n",
    "    },\n",
    "    'type2_diabetes': {\n",
    "        'name': 'T2D',\n",
    "        'results': build_results(coxph_results, 'type2_diabetes'),\n",
    "    },\n",
    "    'obesity': {\n",
    "        'name': 'Obesity',\n",
    "        'results': build_results(coxph_results, 'obesity'),\n",
    "    },\n",
    "    'cad': {\n",
    "        'name': 'CAD',\n",
    "        'results': build_results(coxph_results, 'cad'),\n",
    "    },\n",
    "    'refctrl': {\n",
    "        'name': 'Cough',\n",
    "        'results': build_results(coxph_results, 'refctrl')\n",
    "    }\n",
    "}"
   ]
  },
  {
   "cell_type": "code",
   "execution_count": 25,
   "metadata": {},
   "outputs": [
    {
     "data": {
      "image/png": "[encoded data removed]",
      "text/plain": [
       "<Figure size 252x360 with 1 Axes>"
      ]
     },
     "metadata": {},
     "output_type": "display_data"
    }
   ],
   "source": [
    "# outcome = 'death'\n",
    "# outcome_name = 'Mortality'\n",
    "outcome = 'intub'\n",
    "outcome_name = 'Intubation'\n",
    "\n",
    "groups = ['macula', 'coagulation', 'hypertension', 'type2_diabetes', 'obesity', 'cad', 'refctrl']\n",
    "sorted_groups = sorted([(table_data[covar]['results'][outcome]['age_sex_corrected']['est'], covar) for covar in groups])\n",
    "\n",
    "\n",
    "uni_estimates = list()\n",
    "uni_estimate_errors = list()\n",
    "uni_est_y_positions = list()\n",
    "\n",
    "asc_estimates = list()\n",
    "asc_estimate_errors = list()\n",
    "asc_est_y_positions = list()\n",
    "\n",
    "names = list()\n",
    "name_y_positions = list()\n",
    "\n",
    "y_position = 1\n",
    "\n",
    "for est, covar in sorted_groups:\n",
    "    \n",
    "    d = table_data[covar]['results']\n",
    "    \n",
    "    uni = d[outcome]['univariate']\n",
    "    asc = d[outcome]['age_sex_corrected']\n",
    "    \n",
    "    uni_estimates.append(uni['est'])\n",
    "    uni_estimate_errors.append((uni['lower'], uni['upper']))\n",
    "    uni_est_y_positions.append(y_position)\n",
    "    \n",
    "    asc_estimates.append(asc['est'])\n",
    "    asc_estimate_errors.append((asc['lower'], asc['upper']))\n",
    "    asc_est_y_positions.append(y_position + 1)\n",
    "    \n",
    "    names.append(table_data[covar]['name'])\n",
    "    name_y_positions.append(y_position + 0.5)\n",
    "    \n",
    "    y_position += 3\n",
    "    \n",
    "\n",
    "sns.set(style='ticks', font_scale=1.2)\n",
    "plt.figure(figsize=(3.5,5))\n",
    "plt.errorbar(x=uni_estimates, y=uni_est_y_positions, xerr=zip(*uni_estimate_errors), fmt='s', color='grey', alpha=1.0)\n",
    "plt.errorbar(x=asc_estimates, y=asc_est_y_positions, xerr=zip(*asc_estimate_errors), fmt='o', color='red', alpha=1.0)\n",
    "plt.xlabel('Hazard Ratio (95% CI)')\n",
    "\n",
    "#plt.legend(['Univariate', 'Age & Sex Corrected'], loc='upper right',  bbox_to_anchor=(0.5, -0.05))\n",
    "\n",
    "plt.yticks(name_y_positions, names)\n",
    "plt.xlim(0.8, 5.2)\n",
    "plt.xticks([1,2,3,4,5])\n",
    "plt.tight_layout()\n",
    "sns.despine(trim=True)\n",
    "\n",
    "plt.title(outcome_name)\n",
    "plt.savefig('figures/hazard_ratios_%s_%s_%s.pdf' % (outcome, _version, date_retrieved))\n"
   ]
  },
  {
   "cell_type": "code",
   "execution_count": null,
   "metadata": {},
   "outputs": [],
   "source": []
  },
  {
   "cell_type": "code",
   "execution_count": null,
   "metadata": {},
   "outputs": [],
   "source": []
  }
 ],
 "metadata": {
  "kernelspec": {
   "display_name": "Python 3",
   "language": "python",
   "name": "python3"
  },
  "language_info": {
   "codemirror_mode": {
    "name": "ipython",
    "version": 3
   },
   "file_extension": ".py",
   "mimetype": "text/x-python",
   "name": "python",
   "nbconvert_exporter": "python",
   "pygments_lexer": "ipython3",
   "version": "3.7.6"
  }
 },
 "nbformat": 4,
 "nbformat_minor": 4
}
